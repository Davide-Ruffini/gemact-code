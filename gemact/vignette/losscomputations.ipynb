{
 "cells": [
  {
   "cell_type": "markdown",
   "metadata": {},
   "source": [
    "# Introduction \n",
    "\n",
    "In this vignette we compare different approaches for the computation of a loss model. "
   ]
  },
  {
   "cell_type": "code",
   "execution_count": 4,
   "metadata": {},
   "outputs": [
    {
     "name": "stdout",
     "output_type": "stream",
     "text": [
      "Collecting gemact\n",
      "  Using cached gemact-1.0.1-py3-none-any.whl\n",
      "Requirement already satisfied: twiggy in c:\\python311\\lib\\site-packages (from gemact) (0.5.1)\n",
      "Requirement already satisfied: numpy>=1.21.4 in c:\\python311\\lib\\site-packages (from gemact) (1.25.1)\n",
      "Collecting matplotlib>=3.5.0 (from gemact)\n",
      "  Using cached matplotlib-3.7.2-cp311-cp311-win_amd64.whl (7.5 MB)\n",
      "Collecting scipy>=1.7.2 (from gemact)\n",
      "  Using cached scipy-1.11.1-cp311-cp311-win_amd64.whl (44.0 MB)\n",
      "Collecting contourpy>=1.0.1 (from matplotlib>=3.5.0->gemact)\n",
      "  Using cached contourpy-1.1.0-cp311-cp311-win_amd64.whl (470 kB)\n",
      "Collecting cycler>=0.10 (from matplotlib>=3.5.0->gemact)\n",
      "  Using cached cycler-0.11.0-py3-none-any.whl (6.4 kB)\n",
      "Collecting fonttools>=4.22.0 (from matplotlib>=3.5.0->gemact)\n",
      "  Using cached fonttools-4.40.0-cp311-cp311-win_amd64.whl (1.9 MB)\n",
      "Collecting kiwisolver>=1.0.1 (from matplotlib>=3.5.0->gemact)\n",
      "  Using cached kiwisolver-1.4.4-cp311-cp311-win_amd64.whl (55 kB)\n",
      "Requirement already satisfied: packaging>=20.0 in c:\\users\\gpitt\\appdata\\roaming\\python\\python311\\site-packages (from matplotlib>=3.5.0->gemact) (23.1)\n",
      "Requirement already satisfied: pillow>=6.2.0 in c:\\python311\\lib\\site-packages (from matplotlib>=3.5.0->gemact) (10.0.0)\n",
      "Requirement already satisfied: pyparsing<3.1,>=2.3.1 in c:\\python311\\lib\\site-packages (from matplotlib>=3.5.0->gemact) (3.0.9)\n",
      "Requirement already satisfied: python-dateutil>=2.7 in c:\\users\\gpitt\\appdata\\roaming\\python\\python311\\site-packages (from matplotlib>=3.5.0->gemact) (2.8.2)\n",
      "Requirement already satisfied: six in c:\\users\\gpitt\\appdata\\roaming\\python\\python311\\site-packages (from twiggy->gemact) (1.16.0)\n",
      "Installing collected packages: scipy, kiwisolver, fonttools, cycler, contourpy, matplotlib, gemact\n",
      "Note: you may need to restart the kernel to use updated packages.\n"
     ]
    },
    {
     "name": "stderr",
     "output_type": "stream",
     "text": [
      "ERROR: Could not install packages due to an OSError: [WinError 5] Accesso negato: 'c:\\\\Python311\\\\share'\n",
      "Consider using the `--user` option or check the permissions.\n",
      "\n"
     ]
    }
   ],
   "source": [
    "%pip install gemact"
   ]
  }
 ],
 "metadata": {
  "kernelspec": {
   "display_name": "Python 3",
   "language": "python",
   "name": "python3"
  },
  "language_info": {
   "codemirror_mode": {
    "name": "ipython",
    "version": 3
   },
   "file_extension": ".py",
   "mimetype": "text/x-python",
   "name": "python",
   "nbconvert_exporter": "python",
   "pygments_lexer": "ipython3",
   "version": "3.11.4"
  },
  "orig_nbformat": 4
 },
 "nbformat": 4,
 "nbformat_minor": 2
}
