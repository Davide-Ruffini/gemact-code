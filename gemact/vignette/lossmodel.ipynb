{
  "cells": [
    {
      "cell_type": "code",
      "execution_count": null,
      "metadata": {
        "colab": {
          "base_uri": "https://localhost:8080/",
          "height": 531
        },
        "id": "1Q8e_Vi5E_Q1",
        "outputId": "8443522e-49fa-4375-b8e2-e3f6ca67a5ea"
      },
      "outputs": [
        {
          "name": "stdout",
          "output_type": "stream",
          "text": [
            "Looking in indexes: https://pypi.org/simple, https://us-python.pkg.dev/colab-wheels/public/simple/\n",
            "Collecting gemact==0.1.4\n",
            "  Downloading gemact-0.1.4-py3-none-any.whl (45 kB)\n",
            "\u001b[K     |████████████████████████████████| 45 kB 2.1 MB/s \n",
            "\u001b[?25hRequirement already satisfied: numpy>=1.21.4 in /usr/local/lib/python3.7/dist-packages (from gemact==0.1.4) (1.21.6)\n",
            "Requirement already satisfied: twiggy in /usr/local/lib/python3.7/dist-packages (from gemact==0.1.4) (0.5.1)\n",
            "Requirement already satisfied: scipy>=1.7.2 in /usr/local/lib/python3.7/dist-packages (from gemact==0.1.4) (1.7.3)\n",
            "Requirement already satisfied: matplotlib>=3.5.0 in /usr/local/lib/python3.7/dist-packages (from gemact==0.1.4) (3.5.3)\n",
            "Requirement already satisfied: pillow>=6.2.0 in /usr/local/lib/python3.7/dist-packages (from matplotlib>=3.5.0->gemact==0.1.4) (7.1.2)\n",
            "Requirement already satisfied: packaging>=20.0 in /usr/local/lib/python3.7/dist-packages (from matplotlib>=3.5.0->gemact==0.1.4) (21.3)\n",
            "Requirement already satisfied: fonttools>=4.22.0 in /usr/local/lib/python3.7/dist-packages (from matplotlib>=3.5.0->gemact==0.1.4) (4.37.0)\n",
            "Requirement already satisfied: pyparsing>=2.2.1 in /usr/local/lib/python3.7/dist-packages (from matplotlib>=3.5.0->gemact==0.1.4) (3.0.9)\n",
            "Requirement already satisfied: kiwisolver>=1.0.1 in /usr/local/lib/python3.7/dist-packages (from matplotlib>=3.5.0->gemact==0.1.4) (1.4.4)\n",
            "Requirement already satisfied: python-dateutil>=2.7 in /usr/local/lib/python3.7/dist-packages (from matplotlib>=3.5.0->gemact==0.1.4) (2.8.2)\n",
            "Requirement already satisfied: cycler>=0.10 in /usr/local/lib/python3.7/dist-packages (from matplotlib>=3.5.0->gemact==0.1.4) (0.11.0)\n",
            "Requirement already satisfied: typing-extensions in /usr/local/lib/python3.7/dist-packages (from kiwisolver>=1.0.1->matplotlib>=3.5.0->gemact==0.1.4) (4.1.1)\n",
            "Requirement already satisfied: six>=1.5 in /usr/local/lib/python3.7/dist-packages (from python-dateutil>=2.7->matplotlib>=3.5.0->gemact==0.1.4) (1.15.0)\n",
            "Installing collected packages: gemact\n",
            "  Attempting uninstall: gemact\n",
            "    Found existing installation: gemact 0.1.3\n",
            "    Uninstalling gemact-0.1.3:\n",
            "      Successfully uninstalled gemact-0.1.3\n",
            "Successfully installed gemact-0.1.4\n"
          ]
        },
        {
          "data": {
            "application/vnd.colab-display-data+json": {
              "pip_warning": {
                "packages": [
                  "gemact"
                ]
              }
            }
          },
          "metadata": {},
          "output_type": "display_data"
        }
      ],
      "source": [
        "pip install gemact"
      ]
    },
    {
      "cell_type": "code",
      "execution_count": null,
      "metadata": {
        "id": "p03LLqPnFIjS"
      },
      "outputs": [],
      "source": [
        "import gemact\n",
        "import numpy as np"
      ]
    },
    {
      "cell_type": "code",
      "execution_count": null,
      "metadata": {
        "colab": {
          "base_uri": "https://localhost:8080/",
          "height": 36
        },
        "id": "rwtb3WOH36cQ",
        "outputId": "6ea1d99c-1353-43bd-bf4f-9197b3e2060c"
      },
      "outputs": [
        {
          "data": {
            "application/vnd.google.colaboratory.intrinsic+json": {
              "type": "string"
            },
            "text/plain": [
              "'0.1.4'"
            ]
          },
          "execution_count": 2,
          "metadata": {},
          "output_type": "execute_result"
        }
      ],
      "source": [
        "gemact.__version__"
      ]
    },
    {
      "cell_type": "markdown",
      "metadata": {
        "id": "N-nxEss0FXpn"
      },
      "source": [
        "# Different models to compute the aggregate cost\n",
        "\n",
        "Within the framework of the collective risk model \\cite[p.~148]{klugman98} the aggregate loss $X$ is modeled as\n",
        "\n",
        "$$\n",
        "X=\\sum_{i=1}^{N} Z_i,\n",
        "$$\n",
        "\n",
        "where  $N: \\Omega \\rightarrow \\mathbb{N}_0$ is the random variable modelling the number of claims and $Z_i : \\Omega \\rightarrow \\mathbb{R^+},\\;i=1,2,...,N$ is the payment amount for the $i$-th individual loss. The independence assumptions are:\n",
        "\n",
        "1. Conditional on $N=n$, the random variables $Z_1,...,Z_n$ are i.i.d. and their distribution do not depend on $n$.\n",
        "2. $N$ is independent of $Z_1, ..., ,Z_n$.\n",
        "\n",
        "\n",
        "GEMAct requires distributive assumptions on frequency and severity. In the following tutorial we will assume:\n",
        "\n",
        "* $N \\sim Poisson(4)$\n",
        "* $Z_i \\sim Genpareto(shape=.2, scale=1, loc=0)$\n",
        "\n"
      ]
    },
    {
      "cell_type": "code",
      "execution_count": null,
      "metadata": {
        "colab": {
          "base_uri": "https://localhost:8080/"
        },
        "id": "amIG25ysFNpo",
        "outputId": "d3075f4e-de35-45b5-be70-9b17fca33113"
      },
      "outputs": [
        {
          "name": "stderr",
          "output_type": "stream",
          "text": [
            "INFO:lossmodel|..Approximating aggregate loss distribution via Monte Carlo simulation..\n",
            "INFO:lossmodel|..Simulation completed..\n"
          ]
        }
      ],
      "source": [
        "#poisson -genpareto\n",
        "\n",
        "# define Poisson frequency model\n",
        "frequency = Frequency(\n",
        "    dist='poisson',\n",
        "    par={'mu': 4}\n",
        "    )\n",
        "\n",
        "# define GenPareto severity model\n",
        "severity = Severity(\n",
        "    dist='genpareto',\n",
        "    par={'c': .2, 'scale': 1}\n",
        "    )\n",
        "\n",
        "# define PolicyStructure: default is a empty policy, namely infinty-xs-0 XL with no Quota Share.\n",
        "policystructure = PolicyStructure()\n",
        "\n",
        "# create LossModel with above defined objects.\n",
        "# aggr_loss_dist_method approach set to 'mc', i.e. Monte Carlo.\n",
        "lm_mc = LossModel(\n",
        "    frequency=frequency,\n",
        "    severity=severity,\n",
        "    policystructure=policystructure,\n",
        "    aggr_loss_dist_method='mc',\n",
        "    n_sim=1e+05,\n",
        "    random_state=1\n",
        "    )"
      ]
    },
    {
      "cell_type": "code",
      "execution_count": null,
      "metadata": {
        "colab": {
          "base_uri": "https://localhost:8080/"
        },
        "id": "v86w9RB53i4c",
        "outputId": "7ca4f888-cd04-48a6-a32d-22d0a107c858"
      },
      "outputs": [
        {
          "name": "stderr",
          "output_type": "stream",
          "text": [
            "INFO:lossmodel|..Approximating aggregate loss distribution via Panjer recursion..\n",
            "INFO:lossmodel|..Panjer recursion completed..\n"
          ]
        }
      ],
      "source": [
        "# create LossModel with above defined objects.\n",
        "# aggr_loss_dist_method approach is here set to 'recursion', i.e. Panjer Recursion.\n",
        "lm_rec = LossModel(\n",
        "    frequency=frequency,\n",
        "    severity=severity,\n",
        "    policystructure=policystructure,\n",
        "    aggr_loss_dist_method='recursion',\n",
        "    n_sev_discr_nodes=int(1000),\n",
        "    sev_discr_step=1,\n",
        "    n_aggr_dist_nodes=int(10000)\n",
        "    )"
      ]
    },
    {
      "cell_type": "code",
      "execution_count": null,
      "metadata": {
        "colab": {
          "base_uri": "https://localhost:8080/"
        },
        "id": "ApAC7deA4OdT",
        "outputId": "abc8c57a-19b1-45a2-f8c8-957d66c27763"
      },
      "outputs": [
        {
          "name": "stderr",
          "output_type": "stream",
          "text": [
            "INFO:lossmodel|..Approximating aggregate loss distribution via FFT..\n",
            "INFO:lossmodel|..Distribution via FFT completed..\n"
          ]
        }
      ],
      "source": [
        "# create LossModel with above defined objects.\n",
        "# finally, aggr_loss_dist_method approach is set to 'fft', i.e. Fast Fourier Transform.\n",
        "lm_fft = LossModel(\n",
        "    frequency=frequency,\n",
        "    severity=severity,\n",
        "    policystructure=policystructure,\n",
        "    aggr_loss_dist_method='fft',\n",
        "    n_sev_discr_nodes=int(1000),\n",
        "    sev_discr_step=1,\n",
        "    n_aggr_dist_nodes=int(10000)\n",
        "    )"
      ]
    },
    {
      "cell_type": "code",
      "execution_count": null,
      "metadata": {
        "colab": {
          "base_uri": "https://localhost:8080/"
        },
        "id": "kx3M9-YLH8XS",
        "outputId": "ef8657e4-e56e-4ca4-b813-89278ba383a1"
      },
      "outputs": [
        {
          "name": "stdout",
          "output_type": "stream",
          "text": [
            "MC 4.986130567647585\n",
            "RECURSIVE 4.999999984652499\n",
            "FFT 4.9999999846531935\n"
          ]
        }
      ],
      "source": [
        "# print averages of the aggregate loss distribution for the three LossModels.\n",
        "print('MC: ',lm_mc.aggr_loss_mean())\n",
        "print('RECURSIVE: ',lm_rec.aggr_loss_mean())\n",
        "print('FFT: ',lm_fft.aggr_loss_mean())"
      ]
    },
    {
      "cell_type": "markdown",
      "metadata": {
        "id": "LdsJLxTZ0XyZ"
      },
      "source": [
        "# (Re)insurance contracts pricing\n",
        "\n",
        "Below we show the following pricing models:\n",
        "\n",
        "* Excess-of-loss (XL),\n",
        "* Excess-of-loss with aggregate conditions (reinstatements),\n",
        "* Stop-loss."
      ]
    },
    {
      "cell_type": "code",
      "execution_count": null,
      "metadata": {
        "colab": {
          "base_uri": "https://localhost:8080/"
        },
        "id": "a_NvZ4Dl0TiZ",
        "outputId": "e86d0f79-f610-4e2f-bfb5-8474adb0951a"
      },
      "outputs": [
        {
          "name": "stderr",
          "output_type": "stream",
          "text": [
            "INFO:lossmodel|Discretization step set to cover/n_sev_discr_nodes.\n",
            "INFO:lossmodel|..Approximating aggregate loss distribution via FFT..\n",
            "INFO:lossmodel|..Distribution via FFT completed..\n"
          ]
        }
      ],
      "source": [
        "# severity, frequency and policystructure can be created on-the-fly within LossModel definition.\n",
        "# PolicyStructure has a 100-xs-100 XL Layer.\n",
        "lmXL = LossModel(\n",
        "    frequency=Frequency(\n",
        "        dist='poisson',\n",
        "        par={'mu': .5}\n",
        "    ),\n",
        "    severity=Severity(\n",
        "        par= {'loc': 0,\n",
        "        'scale': 83.33333333333334,\n",
        "        'c': 0.8333333333333334},\n",
        "        dist='genpareto'\n",
        "    ),\n",
        "    policystructure=PolicyStructure(\n",
        "        layers=Layer(\n",
        "            cover=100,\n",
        "            deductible=100\n",
        "        )\n",
        "    ),\n",
        "    aggr_loss_dist_method='fft',\n",
        "    sev_discr_method='massdispersal',\n",
        "    n_sev_discr_nodes=int(10000),\n",
        "    sev_discr_step=.01,\n",
        "    n_aggr_dist_nodes=int(100000)\n",
        "    )"
      ]
    },
    {
      "cell_type": "code",
      "execution_count": null,
      "metadata": {
        "colab": {
          "base_uri": "https://localhost:8080/"
        },
        "id": "DL3mqEh30eoi",
        "outputId": "88050ef7-40e4-466b-9bdb-ddbe4ecdd39d"
      },
      "outputs": [
        {
          "name": "stdout",
          "output_type": "stream",
          "text": [
            "                     Contract specification            parameter                value\n",
            "                      ==================================================================\n",
            "                               Deductible                    d                100.0\n",
            "                                    Cover                u - d                100.0\n",
            "                           Upper priority                    u                200.0\n",
            "                     Aggregate deductible                    L                100.0\n",
            "                     Quota share ceded portion                alpha                    1\n",
            "                             Pure premium                    P   1.3354758296850144\n",
            "\n",
            " Reinstatement layer loading c:  []\n",
            "fft \t n_sev_discr_nodes m:  9999 \t n_aggr_dist_nodes n:  100000\n"
          ]
        }
      ],
      "source": [
        "lmXL.pricing()"
      ]
    },
    {
      "cell_type": "markdown",
      "metadata": {
        "id": "DGeviIsPzzme"
      },
      "source": [
        "# Excess-of-loss with aggregate conditions (reinstatements)\n"
      ]
    },
    {
      "cell_type": "code",
      "execution_count": null,
      "metadata": {
        "colab": {
          "base_uri": "https://localhost:8080/"
        },
        "id": "xsfbatAnz2FI",
        "outputId": "69bc3d3f-de66-4210-a7b7-4cd9bee9f754"
      },
      "outputs": [
        {
          "name": "stderr",
          "output_type": "stream",
          "text": [
            "INFO:lossmodel|Discretization step set to cover/n_sev_discr_nodes.\n",
            "INFO:lossmodel|..Approximating aggregate loss distribution via FFT..\n",
            "INFO:lossmodel|..Distribution via FFT completed..\n"
          ]
        }
      ],
      "source": [
        "# PolicyStructure has a 100-xs-0 XL Layer, 0 aggregate deductible, 1 reinstatement and 50% reinstatement loading.\n",
        "# aggr_loss_dist_method is 'fft', namely Fast Fourier Transformation.\n",
        "# sev_discr_method is 'massdispersal', namely mass dispersal method.\n",
        "lmXLaggr = LossModel(\n",
        "    frequency=Frequency(\n",
        "        dist='poisson',\n",
        "        par={'mu': .5}\n",
        "    ),\n",
        "    severity=Severity(\n",
        "        par= {'loc': 0,\n",
        "        'scale': 83.33333333333334,\n",
        "        'c': 0.8333333333333334},\n",
        "        dist='genpareto'\n",
        "    ),\n",
        "    policystructure=PolicyStructure(\n",
        "        layers=Layer(\n",
        "            cover=100,\n",
        "            deductible=0,\n",
        "            aggr_deductible=0,\n",
        "            reinst_loading=0.5,\n",
        "            n_reinst=1\n",
        "        )\n",
        "    ),\n",
        "    aggr_loss_dist_method='fft',\n",
        "    sev_discr_method='massdispersal',\n",
        "    n_sev_discr_nodes=int(10000),\n",
        "    sev_discr_step=.01,\n",
        "    n_aggr_dist_nodes=int(100000)\n",
        "    )\n"
      ]
    },
    {
      "cell_type": "code",
      "execution_count": null,
      "metadata": {
        "colab": {
          "base_uri": "https://localhost:8080/"
        },
        "id": "i4DBLkdY0KuI",
        "outputId": "35528887-257b-4ae9-c13e-392a8a8a747b"
      },
      "outputs": [
        {
          "name": "stdout",
          "output_type": "stream",
          "text": [
            "                     Contract specification            parameter                value\n",
            "                      ==================================================================\n",
            "                               Deductible                    d                  0.0\n",
            "                                    Cover                u - d                100.0\n",
            "                           Upper priority                    u                100.0\n",
            "                     Aggregate deductible                    L                  0.0\n",
            "                     Quota share ceded portion                alpha                    1\n",
            "                     Number of reinstatements                    K                    1\n",
            "                             Pure premium                    P    24.97739773475006\n",
            "\n",
            " Reinstatement layer loading c:  [1]\n",
            "fft \t n_sev_discr_nodes m:  9999 \t n_aggr_dist_nodes n:  100000\n"
          ]
        }
      ],
      "source": [
        "lmXLaggr.pricing()"
      ]
    },
    {
      "cell_type": "markdown",
      "metadata": {
        "id": "NxUAx0OpDp_R"
      },
      "source": [
        "# Severity discretization\n",
        "\n",
        "In order to pass from a continuous distribution to an arithmetic distribution, it is important to preserve the distribution properties either locally or globally. Given a span $h$ and $m$ the last available point, in GEMAct there are two available solutions.\n",
        "\n",
        "**Method of mass dispersal**\n",
        "\n",
        "$$ f_{0}=\\operatorname{Pr}\\left(Z<\\frac{h}{2}\\right)=F_{Z}\\left(\\frac{h}{2}-0\\right)$$\n",
        "\n",
        "$$ f_{j}=F_{Z}\\left(j h+\\frac{h}{2}-0\\right)-F_{Z}\\left(j h-\\frac{h}{2}-0\\right), \\quad j=1,2, \\ldots, m-1$$\n",
        "\n",
        "\n",
        "**Method of local moments matching**\n",
        "\n",
        "The following approach is applied to preserve the global mean of the distribution.\n",
        "\n",
        "$$f_0 = m^0_0$$\n",
        "\n",
        "$$f_j = m^{j}_0+ m^{j-1}_1 , \\quad j=0,1, \\ldots, m-1$$\n",
        "\n",
        "$$ \\sum_{j=0}^{1}\\left(z_k+j h\\right)^{r} m_{j}^{k}=\\int_{z_k-0}^{z_k+ h-0} z^r d F_{Z}(z), \\quad r=0,1$$\n",
        "\n",
        "$$ m_{j}^{k}=\\int_{z_k-0}^{z_k+p h-0} \\prod_{i \\neq j} \\frac{x-z_k-i h}{(j-i) h} d F_{Z}(z), \\quad j=0,1$$\n"
      ]
    },
    {
      "cell_type": "markdown",
      "metadata": {
        "id": "eTOmGrxE5HJe"
      },
      "source": [
        "Below we show the computations consistency by comparing the discrete mean via mass dispersal and the discrete mean via local moments discretization."
      ]
    },
    {
      "cell_type": "code",
      "execution_count": null,
      "metadata": {
        "colab": {
          "base_uri": "https://localhost:8080/"
        },
        "id": "Sy9UrhgfDsC5",
        "outputId": "9cf177c2-9f25-4a24-f3d8-abc1fa14873e"
      },
      "outputs": [
        {
          "name": "stderr",
          "output_type": "stream",
          "text": [
            "INFO:lossmodel|Discretization step set to cover/n_sev_discr_nodes.\n",
            "INFO:lossmodel|..Approximating aggregate loss distribution via FFT..\n",
            "INFO:lossmodel|..Distribution via FFT completed..\n",
            "INFO:lossmodel|Discretization step set to cover/n_sev_discr_nodes.\n",
            "INFO:lossmodel|..Approximating aggregate loss distribution via FFT..\n",
            "INFO:lossmodel|..Distribution via FFT completed..\n"
          ]
        }
      ],
      "source": [
        "# severity objects are equipped with a method for performing the discretization.\n",
        "# this can be carried out using either 'massdispersal' or 'localmoments' argument.\n",
        "massdispersal = severity.discretize(\n",
        "    discr_method='massdispersal',\n",
        "    n_discr_nodes=50000,\n",
        "    discr_step=.01,\n",
        "    deductible=0,\n",
        "    cover=100\n",
        ")\n",
        "\n",
        "localmoments = severity.discretize(\n",
        "    discr_method='localmoments',\n",
        "    n_discr_nodes=50000,\n",
        "    discr_step=.01,\n",
        "    deductible=0,\n",
        "    cover=100\n",
        ")\n",
        "\n",
        "meanMD = np.sum(massdispersal['sev_nodes'] * massdispersal['fj'])\n",
        "meanLM = np.sum(localmoments['sev_nodes'] * localmoments['fj'])\n",
        "print('Mean (mass dispersal): ', meanMD)\n",
        "print('Mean (local moments): ', meanLM)"
      ]
    },
    {
      "cell_type": "markdown",
      "metadata": {},
      "source": []
    }
  ],
  "metadata": {
    "colab": {
      "provenance": []
    },
    "kernelspec": {
      "display_name": "Python 3.8.3 ('base')",
      "language": "python",
      "name": "python3"
    },
    "language_info": {
      "name": "python",
      "version": "3.8.3"
    },
    "vscode": {
      "interpreter": {
        "hash": "2a30fbe1e7b635a088d04c84f03b2c213c97cf71734b849e854856f7b360ec03"
      }
    }
  },
  "nbformat": 4,
  "nbformat_minor": 0
}
