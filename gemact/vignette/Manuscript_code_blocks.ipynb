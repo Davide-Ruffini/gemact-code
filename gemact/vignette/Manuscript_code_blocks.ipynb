{
 "cells": [
  {
   "cell_type": "markdown",
   "metadata": {},
   "source": [
    "# GEMAct: a Python package for non-life (re)insurance modeling\n",
    "\n",
    "This notebook contains the code blocks shown in the [manuscript](https://arxiv.org/abs/2303.01129) describing the usage and the design of the GEMAct package.\n",
    "This vignette is relative to the version 1.2.0 of the GEMAct software."
   ]
  },
  {
   "cell_type": "code",
   "execution_count": null,
   "metadata": {
    "vscode": {
     "languageId": "plaintext"
    }
   },
   "outputs": [],
   "source": [
    "pip install gemact==1.2.0"
   ]
  },
  {
   "cell_type": "markdown",
   "metadata": {},
   "source": [
    "## 3.3 Severity discretisation"
   ]
  },
  {
   "cell_type": "code",
   "execution_count": null,
   "metadata": {
    "vscode": {
     "languageId": "plaintext"
    }
   },
   "outputs": [],
   "source": [
    "from gemact.lossmodel import Severity\n",
    "severity = Severity(dist='gamma', par={'a': 5})\n",
    "\n",
    "massdispersal = severity.discretize(\n",
    "    discr_method='massdispersal',\n",
    "    n_discr_nodes=50000,\n",
    "    discr_step=.01,\n",
    "    deductible=0\n",
    "    )\n",
    "\n",
    "import numpy as np\n",
    "discrete_mean = np.sum(massdispersal['nodes'] * massdispersal['fj'])\n",
    "print('Mean of the discretised distribution:', discrete_mean)\n",
    "\n",
    "from gemact import distributions\n",
    "dist = distributions.Gamma(a=5)\n",
    "nodes = np.arange(0, 20)\n",
    "true_cdf = dist.cdf(nodes)\n",
    "\n",
    "import matplotlib.pyplot as plt\n",
    "severity.plot_discr_sev_cdf(\n",
    "    discr_method='massdispersal',\n",
    "    n_discr_nodes=20,\n",
    "    discr_step=1,\n",
    "    deductible=0,\n",
    "    color='#a71429'\n",
    "    )\n",
    "plt.plot(nodes, true_cdf, color='#4169E1', label='True cdf')\n",
    "plt.title('Method of Mass Dispersal')\n",
    "plt.xlabel('z')\n",
    "plt.show()"
   ]
  },
  {
   "cell_type": "markdown",
   "metadata": {},
   "source": [
    "## 3.4 Supported distributions"
   ]
  },
  {
   "cell_type": "code",
   "execution_count": null,
   "metadata": {
    "vscode": {
     "languageId": "plaintext"
    }
   },
   "outputs": [],
   "source": [
    "ztpois = distributions.ZTPoisson(mu=2)\n",
    "\n",
    "random_variates = ztpois.rvs(10**5, random_state=1)\n",
    "print('Simulated Mean: ', np.mean(random_variates))\n",
    "print('Exact Mean: ', ztpois.mean())\n",
    "\n",
    "from gemact import copulas\n",
    "gumbel_copula = copulas.GumbelCopula(par=1.2, dim=2)\n",
    "values = np.array([[.5, .5]])\n",
    "print('Gumbel copula cdf: ', gumbel_copula.cdf(values)[0])"
   ]
  },
  {
   "cell_type": "markdown",
   "metadata": {},
   "source": [
    "## 3.5 Illustration lossmodel"
   ]
  },
  {
   "cell_type": "code",
   "execution_count": null,
   "metadata": {
    "vscode": {
     "languageId": "plaintext"
    }
   },
   "outputs": [],
   "source": [
    "from gemact.lossmodel import Frequency\n",
    "frequency = Frequency(\n",
    "    dist='poisson',\n",
    "    par={'mu': 4},\n",
    "    threshold=0\n",
    "    )\n",
    "\n",
    "from gemact.lossmodel import LossModel\n",
    "lm_mc = LossModel(\n",
    "    frequency=frequency,\n",
    "    severity=severity,\n",
    "    aggr_loss_dist_method='mc',\n",
    "    n_sim=10**5,\n",
    "    random_state=1\n",
    "    )\n",
    "\n",
    "lm_mc.print_aggr_loss_method_specs()\n",
    "\n",
    "lm_mc.mean(use_dist=True)\n",
    "lm_mc.mean(use_dist=False)\n",
    "lm_mc.coeff_variation(use_dist=True)\n",
    "lm_mc.coeff_variation(use_dist=False)\n",
    "lm_mc.skewness(use_dist=True)\n",
    "lm_mc.skewness(use_dist=False)\n",
    "\n",
    "lm_mc.moment(central=False, n=1)\n",
    "\n",
    "lm_mc.ppf(q=[0.80, 0.70])\n",
    "\n",
    "from gemact.lossmodel import PolicyStructure, Layer\n",
    "policystructure = PolicyStructure(\n",
    "    layers=Layer(\n",
    "    cover=20,\n",
    "    deductible=5\n",
    "    ))\n",
    "\n",
    "lm_XL = LossModel(\n",
    "    frequency=frequency,\n",
    "    severity=severity,\n",
    "    policystructure=policystructure,\n",
    "    aggr_loss_dist_method='fft',\n",
    "    sev_discr_method='massdispersal',\n",
    "    n_aggr_dist_nodes=2**17\n",
    "    )\n",
    "\n",
    "\n",
    "lm_XL.print_costing_specs()\n",
    "\n",
    "lm_XL.mean(use_dist=True)\n",
    "lm_XL.mean(use_dist=False)\n",
    "lm_XL.coeff_variation(use_dist=True)\n",
    "lm_XL.coeff_variation(use_dist=False)\n",
    "lm_XL.skewness(use_dist=True)\n",
    "lm_XL.skewness(use_dist=False)\n",
    "\n",
    "policystructure_RS = PolicyStructure(\n",
    "    layers=Layer(\n",
    "    cover=100,\n",
    "    deductible=0,\n",
    "    aggr_deductible=100,\n",
    "    reinst_percentage=1,\n",
    "    n_reinst=2\n",
    "    ))\n",
    "\n",
    "lm_RS = LossModel(\n",
    "    frequency=Frequency(\n",
    "    dist='poisson',\n",
    "    par={'mu': .5}\n",
    "    ),\n",
    "    severity=Severity(\n",
    "    dist='pareto2',\n",
    "    par={'scale': 100, 'shape': 1.2}\n",
    "    ),\n",
    "    policystructure = policystructure_RS,\n",
    "    aggr_loss_dist_method='fft',\n",
    "    sev_discr_method='massdispersal',\n",
    "    n_aggr_dist_nodes=2**17\n",
    "    )\n",
    "print('Pure premium (RS): ', lm_RS.pure_premium_dist[0])\n",
    "\n",
    "policystructure=PolicyStructure(\n",
    "    layers=[\n",
    "    Layer(cover=100, deductible=100, share=0.5),\n",
    "    Layer(cover=200, deductible=100, n_reinst=2, reinst_percentage=0.6),\n",
    "    Layer(cover=100, deductible=100, aggr_cover=200)\n",
    "    ])\n",
    "lossmodel_multiple = LossModel(\n",
    "    frequency=Frequency(\n",
    "    dist='poisson',\n",
    "    par={'mu': .5}\n",
    "    ),\n",
    "    severity=Severity(\n",
    "    dist='genpareto',\n",
    "    par={'loc': 0, 'scale': 83.34, 'c': 0.834}\n",
    "    ),\n",
    "    policystructure=policystructure\n",
    "    )\n",
    "\n",
    "lossmodel_multiple.pure_premium\n",
    "lossmodel_multiple.pure_premium_dist\n",
    "\n",
    "lossmodel_multiple.dist_calculate(\n",
    "    aggr_loss_dist_method='fft',\n",
    "    sev_discr_method='massdispersal',\n",
    "    n_aggr_dist_nodes=2**17\n",
    ")\n",
    "lossmodel_multiple.costing()\n",
    "lossmodel_multiple.pure_premium\n",
    "lossmodel_multiple.pure_premium_dist\n",
    "\n",
    "lossmodel_multiple.print_policy_layer_specs(idx=1)\n",
    "\n",
    "lossmodel_multiple.mean(idx=2)"
   ]
  },
  {
   "cell_type": "markdown",
   "metadata": {},
   "source": [
    "# 4.1 Illustration lossaggregation"
   ]
  },
  {
   "cell_type": "code",
   "execution_count": null,
   "metadata": {
    "vscode": {
     "languageId": "plaintext"
    }
   },
   "outputs": [],
   "source": [
    "from gemact import LossAggregation, Copula, Margins\n",
    "lossaggregation = LossAggregation(\n",
    "    margins=Margins(\n",
    "    dist=['genpareto', 'lognormal'],\n",
    "    par=[{'loc': 0, 'scale': 1/.9, 'c': 1/.9}, {'loc': 0, 'scale': 10, 'shape': 1.5}]\n",
    "    ),\n",
    "    copula=Copula(\n",
    "    dist='frank',\n",
    "    par={'par': 1.2, 'dim': 2}\n",
    "    ),\n",
    "    n_sim=500000,\n",
    "    random_state=10,\n",
    "    n_iter=8\n",
    "    )\n",
    "\n",
    "s = 300 # arbitrary value\n",
    "p_aep = lossaggregation.cdf(x=s, method='aep')\n",
    "print('P(X1+X2 <= s) = ', p_aep)\n",
    "p_mc = lossaggregation.cdf(x=s, method='mc')\n",
    "print('P(X1+X2 <= s) = ', p_mc)\n",
    "\n",
    "lossaggregation.ppf(q=p_aep, method='aep')\n",
    "lossaggregation.ppf(q=p_mc, method='mc')"
   ]
  },
  {
   "cell_type": "markdown",
   "metadata": {},
   "source": [
    "# 5.2 Illustration lossreserve"
   ]
  },
  {
   "cell_type": "code",
   "execution_count": null,
   "metadata": {
    "vscode": {
     "languageId": "plaintext"
    }
   },
   "outputs": [],
   "source": [
    "from gemact import gemdata\n",
    "ip = gemdata.incremental_payments_sim\n",
    "pnb = gemdata.payments_number_sim\n",
    "cp = gemdata.cased_payments_sim\n",
    "opn = gemdata.open_number_sim\n",
    "reported = gemdata.reported_claims_sim\n",
    "czj = gemdata.czj_sim\n",
    "from gemact import AggregateData\n",
    "from gemact import ReservingModel\n",
    "\n",
    "ad = AggregateData(\n",
    "    incremental_payments=ip,\n",
    "    cased_payments=cp,\n",
    "    open_claims_number=opn,\n",
    "    reported_claims=reported,\n",
    "    payments_number=pnb\n",
    "    )\n",
    "resmodel_crm = ReservingModel(\n",
    "    tail=False,\n",
    "    reserving_method='crm',\n",
    "    claims_inflation=np.array([1]),\n",
    "    mixing_fq_par=.01,\n",
    "    mixing_sev_par=.01,\n",
    "    czj=czj\n",
    "    )\n",
    "\n",
    "from gemact import LossReserve\n",
    "lr = LossReserve(\n",
    "    data=ad,\n",
    "    reservingmodel=resmodel_crm,\n",
    "    ntr_sim=1000,\n",
    "    random_state=42\n",
    "    )\n",
    "\n",
    "lr.reserve\n",
    "lr.ppf(q=np.array([.25, .5, .75, .995, .9995]))/10**6"
   ]
  },
  {
   "cell_type": "markdown",
   "metadata": {},
   "source": [
    "# Appendix B The AEP Algorithm"
   ]
  },
  {
   "cell_type": "code",
   "execution_count": null,
   "metadata": {
    "vscode": {
     "languageId": "plaintext"
    }
   },
   "outputs": [],
   "source": [
    "from gemact import Margins, Copula\n",
    "margins = Margins(\n",
    "    dist=['uniform', 'uniform'],\n",
    "    par=[{'a': 0, 'b': 1}, {'a': 0, 'b': 1}]\n",
    "    )\n",
    "copula = Copula(\n",
    "    dist='gaussian',\n",
    "    par={'corr': [[1, 0.7], [0.7, 1]]}\n",
    "    )\n",
    "la = LossAggregation(\n",
    "    copula=copula,\n",
    "    margins=margins\n",
    "    )\n",
    "la.cdf(x=1, n_iter=1, method='aep')\n",
    "\n",
    "la.cdf(x=1, n_iter=2, method='aep')"
   ]
  },
  {
   "cell_type": "markdown",
   "metadata": {},
   "source": [
    "# Appendix C Claims reserving with the Fisher-Lange"
   ]
  },
  {
   "cell_type": "code",
   "execution_count": null,
   "metadata": {
    "vscode": {
     "languageId": "plaintext"
    }
   },
   "outputs": [],
   "source": [
    "from gemact import gemdata\n",
    "ip = gemdata.incremental_payments_sim\n",
    "pnb = gemdata.payments_number_sim\n",
    "cp = gemdata.cased_payments_sim\n",
    "opn = gemdata.open_number_sim\n",
    "reported = gemdata.reported_claims_sim\n",
    "czj = gemdata.czj_sim\n",
    "claims_inflation = np.array([1])\n",
    "\n",
    "from gemact.lossreserve import AggregateData\n",
    "ad = AggregateData(\n",
    "    incremental_payments=ip,\n",
    "    cased_payments=cp,\n",
    "    open_claims_number=opn,\n",
    "    reported_claims=reported,\n",
    "    payments_number=pnb\n",
    "    )\n",
    "\n",
    "resmodel = ReservingModel(\n",
    "    tail=False,\n",
    "    reserving_method='fisher_lange',\n",
    "    claims_inflation=claims_inflation\n",
    "    )\n",
    "\n",
    "from gemact.lossreserve import LossReserve\n",
    "lossreserve = LossReserve(data=ad, reservingmodel=resmodel)"
   ]
  }
 ],
 "metadata": {
  "language_info": {
   "name": "python"
  }
 },
 "nbformat": 4,
 "nbformat_minor": 2
}
