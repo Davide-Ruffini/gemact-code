{
  "cells": [
    {
      "cell_type": "markdown",
      "metadata": {
        "id": "Fxu_JzRl3eUs"
      },
      "source": [
        "# Introduction \n",
        "\n",
        "In this vignette you can find the code we used to create the api reference guide documentation. \n",
        "For each distribution the code is showing the distribution methods. "
      ]
    },
    {
      "cell_type": "code",
      "execution_count": null,
      "metadata": {
        "id": "oth5k4v6mU-J"
      },
      "outputs": [],
      "source": [
        "try:\n",
        "     import gemact\n",
        "except:\n",
        "      !pip install gemact== 0.3.1\n",
        "      exit()"
      ]
    },
    {
      "cell_type": "code",
      "execution_count": null,
      "metadata": {
        "id": "p5lYyIFhcnbW"
      },
      "outputs": [],
      "source": [
        "from gemact import distributions\n",
        "import numpy as np"
      ]
    },
    {
      "cell_type": "markdown",
      "metadata": {
        "id": "aqI2cPB9WeRN"
      },
      "source": [
        "#Poisson \n"
      ]
    },
    {
      "cell_type": "code",
      "execution_count": null,
      "metadata": {
        "colab": {
          "base_uri": "https://localhost:8080/"
        },
        "id": "JdZ7TI2gm47_",
        "outputId": "3aef3044-e507-41e7-9d1b-9ece63f1be9f"
      },
      "outputs": [
        {
          "name": "stdout",
          "output_type": "stream",
          "text": [
            "Mean 3.999999793648637\n",
            "Theoretical mean 4.0\n",
            "Variance 3.9999973104095172\n",
            "Theoretical variance 4.0\n",
            "Simulated mean 4.00561\n",
            "Simulated variance 4.023178527900001\n"
          ]
        }
      ],
      "source": [
        "mu=4\n",
        "dist=distributions.Poisson(mu=mu)\n",
        "seq=np.arange(0,20)\n",
        "nsim=int(1e+05)\n",
        "\n",
        "# Compute the mean via pmf\n",
        "mean=np.sum(dist.pmf(seq)*seq)\n",
        "variance=np.sum(dist.pmf(seq)*(seq-mean)**2)\n",
        "\n",
        "print('Mean',mean)\n",
        "print('Theoretical mean',dist.mean())\n",
        "print('Variance',variance)\n",
        "print('Theoretical variance',dist.var())\n",
        "#compare with simulations\n",
        "print('Simulated mean',np.mean(dist.rvs(nsim)))\n",
        "print('Simulated variance',np.var(dist.rvs(nsim)))"
      ]
    },
    {
      "cell_type": "code",
      "execution_count": null,
      "metadata": {
        "colab": {
          "base_uri": "https://localhost:8080/",
          "height": 281
        },
        "id": "GsLUHcxMtyl5",
        "outputId": "720e15d8-e156-4df7-fcc8-7a66832ff857"
      },
      "outputs": [
        {
          "data": {
            "image/png": "[encoded data removed]",
            "text/plain": [
              "<Figure size 432x288 with 1 Axes>"
            ]
          },
          "metadata": {
            "needs_background": "light"
          },
          "output_type": "display_data"
        }
      ],
      "source": [
        "import matplotlib.pyplot as plt\n",
        "\n",
        "#pmf\n",
        "plt.vlines(x=seq, ymin=0, ymax=dist.pmf(seq))\n",
        "plt.title('Probability mass function, ~Poisson(mu=4)')\n",
        "plt.savefig('./poispmf.png',dpi=1200)\n"
      ]
    },
    {
      "cell_type": "code",
      "execution_count": null,
      "metadata": {
        "colab": {
          "base_uri": "https://localhost:8080/",
          "height": 281
        },
        "id": "y-55UebTpDA5",
        "outputId": "20ca3f8f-2a03-4245-dce0-10bb8d1c22e7"
      },
      "outputs": [
        {
          "data": {
            "image/png": "[encoded data removed]",
            "text/plain": [
              "<Figure size 432x288 with 1 Axes>"
            ]
          },
          "metadata": {
            "needs_background": "light"
          },
          "output_type": "display_data"
        }
      ],
      "source": [
        "#cdf\n",
        "plt.step(np.arange(-2,20),dist.cdf(np.arange(-2,20)),'-', where='pre')\n",
        "plt.title('Cumulative distribution function, ~ Poisson(mu=4)')\n",
        "plt.savefig('./poiscdf.png',dpi=1200)\n"
      ]
    },
    {
      "cell_type": "code",
      "execution_count": null,
      "metadata": {
        "id": "O__Kl_EKo4rL"
      },
      "outputs": [],
      "source": [
        "from gemact import distributions\n",
        "import numpy as np\n"
      ]
    },
    {
      "cell_type": "markdown",
      "metadata": {
        "id": "0MZUJJ85pKMu"
      },
      "source": [
        "#Binomial"
      ]
    },
    {
      "cell_type": "code",
      "execution_count": null,
      "metadata": {
        "colab": {
          "base_uri": "https://localhost:8080/"
        },
        "id": "7zIih6UMo7vj",
        "outputId": "4c0de5dd-0694-4c50-e74b-86dfb22a4351"
      },
      "outputs": [
        {
          "name": "stdout",
          "output_type": "stream",
          "text": [
            "Mean 5.0\n",
            "Theoretical mean 5.0\n",
            "Variance 2.5000000000000004\n",
            "Theoretical variance 2.5\n",
            "Simulated mean 5.00345\n",
            "Simulated variance 2.4984980975000006\n"
          ]
        }
      ],
      "source": [
        "n=10\n",
        "p=0.5\n",
        "dist=distributions.Binom(n=n,p=p)\n",
        "seq=np.arange(0,20)\n",
        "nsim=int(1e+05)\n",
        "\n",
        "# Compute the mean via pmf\n",
        "mean=np.sum(dist.pmf(seq)*seq)\n",
        "variance=np.sum(dist.pmf(seq)*(seq-mean)**2)\n",
        "\n",
        "print('Mean',mean)\n",
        "print('Theoretical mean',dist.mean())\n",
        "print('Variance',variance)\n",
        "print('Theoretical variance',dist.var())\n",
        "#compare with simulations\n",
        "print('Simulated mean',np.mean(dist.rvs(nsim)))\n",
        "print('Simulated variance',np.var(dist.rvs(nsim)))"
      ]
    },
    {
      "cell_type": "code",
      "execution_count": null,
      "metadata": {
        "colab": {
          "base_uri": "https://localhost:8080/",
          "height": 281
        },
        "id": "0CN8AsMwpNY3",
        "outputId": "621dfcf5-c2cb-4524-e047-2a87a008185f"
      },
      "outputs": [
        {
          "data": {
            "image/png": "[encoded data removed]",
            "text/plain": [
              "<Figure size 432x288 with 1 Axes>"
            ]
          },
          "metadata": {
            "needs_background": "light"
          },
          "output_type": "display_data"
        }
      ],
      "source": [
        "import matplotlib.pyplot as plt\n",
        "\n",
        "#pmf\n",
        "plt.vlines(x=seq, ymin=0, ymax=dist.pmf(seq))\n",
        "plt.title('Probability mass function, ~Binom(n=10,p=0.5)')\n",
        "plt.savefig('./poispmf.png',dpi=1200)\n"
      ]
    },
    {
      "cell_type": "code",
      "execution_count": null,
      "metadata": {
        "colab": {
          "base_uri": "https://localhost:8080/",
          "height": 281
        },
        "id": "hKT58S_apPPx",
        "outputId": "8f18c76e-f5c9-4da9-9c32-3815f69c204e"
      },
      "outputs": [
        {
          "data": {
            "image/png": "[encoded data removed]",
            "text/plain": [
              "<Figure size 432x288 with 1 Axes>"
            ]
          },
          "metadata": {
            "needs_background": "light"
          },
          "output_type": "display_data"
        }
      ],
      "source": [
        "#cdf\n",
        "plt.step(np.arange(-2,20),dist.cdf(np.arange(-2,20)),'-', where='pre')\n",
        "plt.title('Cumulative distribution function, ~Binom(n=10,p=0.5)')\n",
        "plt.savefig('./poiscdf.png',dpi=1200)\n"
      ]
    },
    {
      "cell_type": "markdown",
      "metadata": {
        "id": "689BaZ6TsT5i"
      },
      "source": [
        "# Geom"
      ]
    },
    {
      "cell_type": "code",
      "execution_count": null,
      "metadata": {
        "colab": {
          "base_uri": "https://localhost:8080/"
        },
        "id": "kGUAL2hmsUsx",
        "outputId": "f9821f25-758c-4a08-c1ba-ad92131fee32"
      },
      "outputs": [
        {
          "name": "stdout",
          "output_type": "stream",
          "text": [
            "Mean 1.2499999999989384\n",
            "Theoretical mean 1.25\n",
            "Variance 0.3124999999810567\n",
            "Theoretical variance 0.3124999999999999\n",
            "Simulated mean 1.25105\n",
            "Simulated variance 0.31370389750000005\n"
          ]
        }
      ],
      "source": [
        "from gemact import distributions\n",
        "import numpy as np\n",
        "\n",
        "p=0.8\n",
        "dist=distributions.Geom(p=p)\n",
        "seq=np.arange(0,20,.001)\n",
        "nsim=int(1e+05)\n",
        "\n",
        "# Compute the mean via pmf\n",
        "mean=np.sum(dist.pmf(seq)*seq)\n",
        "variance=np.sum(dist.pmf(seq)*(seq-mean)**2)\n",
        "\n",
        "print('Mean',mean)\n",
        "print('Theoretical mean',dist.mean())\n",
        "print('Variance',variance)\n",
        "print('Theoretical variance',dist.var())\n",
        "#compare with simulations\n",
        "print('Simulated mean',np.mean(dist.rvs(nsim)))\n",
        "print('Simulated variance',np.var(dist.rvs(nsim)))"
      ]
    },
    {
      "cell_type": "code",
      "execution_count": null,
      "metadata": {
        "colab": {
          "base_uri": "https://localhost:8080/",
          "height": 281
        },
        "id": "IuAa7vK8siR4",
        "outputId": "d5279dd4-a902-4d7e-8ed5-7f3434783517"
      },
      "outputs": [
        {
          "data": {
            "image/png": "[encoded data removed]",
            "text/plain": [
              "<Figure size 432x288 with 1 Axes>"
            ]
          },
          "metadata": {
            "needs_background": "light"
          },
          "output_type": "display_data"
        }
      ],
      "source": [
        "import matplotlib.pyplot as plt\n",
        "\n",
        "#pmf\n",
        "plt.vlines(x=seq, ymin=0, ymax=dist.pmf(seq))\n",
        "plt.title('Probability mass function, ~Geom(p=0.8)')\n",
        "plt.savefig('./poispmf.png',dpi=1200)\n"
      ]
    },
    {
      "cell_type": "code",
      "execution_count": null,
      "metadata": {
        "colab": {
          "base_uri": "https://localhost:8080/",
          "height": 281
        },
        "id": "HQd8vpUWsjn3",
        "outputId": "6e0db646-3c2b-425f-ea85-a9528cca48d8"
      },
      "outputs": [
        {
          "data": {
            "image/png": "[encoded data removed]",
            "text/plain": [
              "<Figure size 432x288 with 1 Axes>"
            ]
          },
          "metadata": {
            "needs_background": "light"
          },
          "output_type": "display_data"
        }
      ],
      "source": [
        "#cdf\n",
        "plt.step(np.arange(-2,20),dist.cdf(np.arange(-2,20)),'-', where='pre')\n",
        "plt.title('Cumulative distribution function, ~Geom(p=0.8)')\n",
        "plt.savefig('./poiscdf.png',dpi=1200)\n"
      ]
    },
    {
      "cell_type": "markdown",
      "metadata": {
        "id": "EVY6EBBrvAJR"
      },
      "source": [
        "# NBinom"
      ]
    },
    {
      "cell_type": "code",
      "execution_count": null,
      "metadata": {
        "colab": {
          "base_uri": "https://localhost:8080/"
        },
        "id": "S6ODO6vJvBcI",
        "outputId": "0dadc70f-127a-4e79-d35a-bcbfac17885b"
      },
      "outputs": [
        {
          "name": "stdout",
          "output_type": "stream",
          "text": [
            "Mean 10.0\n",
            "Theoretical mean 10.0\n",
            "Variance 19.999999999999996\n",
            "Theoretical variance 20.0\n",
            "Simulated mean 9.99368\n",
            "Simulated variance 19.9157000576\n"
          ]
        }
      ],
      "source": [
        "from gemact import distributions\n",
        "import numpy as np\n",
        "\n",
        "n=10\n",
        "p=.5\n",
        "dist=distributions.NegBinom(n=n,p=p)\n",
        "seq=np.arange(0,100,.001)\n",
        "nsim=int(1e+05)\n",
        "\n",
        "# Compute the mean via pmf\n",
        "mean=np.sum(dist.pmf(seq)*seq)\n",
        "variance=np.sum(dist.pmf(seq)*(seq-mean)**2)\n",
        "\n",
        "print('Mean',mean)\n",
        "print('Theoretical mean',dist.mean())\n",
        "print('Variance',variance)\n",
        "print('Theoretical variance',dist.var())\n",
        "#compare with simulations\n",
        "print('Simulated mean',np.mean(dist.rvs(nsim)))\n",
        "print('Simulated variance',np.var(dist.rvs(nsim)))"
      ]
    },
    {
      "cell_type": "code",
      "execution_count": null,
      "metadata": {
        "colab": {
          "base_uri": "https://localhost:8080/",
          "height": 281
        },
        "id": "LIDTLgvrwWy2",
        "outputId": "31dc982a-7ec1-407d-979b-9e5dc936ddea"
      },
      "outputs": [
        {
          "data": {
            "image/png": "[encoded data removed]",
            "text/plain": [
              "<Figure size 432x288 with 1 Axes>"
            ]
          },
          "metadata": {
            "needs_background": "light"
          },
          "output_type": "display_data"
        }
      ],
      "source": [
        "import matplotlib.pyplot as plt\n",
        "\n",
        "#pmf\n",
        "plt.vlines(x=seq, ymin=0, ymax=dist.pmf(seq))\n",
        "plt.title('Probability mass function, ~NBinom(n=10,p=0.8)')\n",
        "plt.savefig('./poispmf.png',dpi=1200)\n"
      ]
    },
    {
      "cell_type": "code",
      "execution_count": null,
      "metadata": {
        "colab": {
          "base_uri": "https://localhost:8080/",
          "height": 281
        },
        "id": "KgmTfWNEwZjD",
        "outputId": "7b1ec8ed-d58b-4359-c05f-4b55e86546fe"
      },
      "outputs": [
        {
          "data": {
            "image/png": "[encoded data removed]",
            "text/plain": [
              "<Figure size 432x288 with 1 Axes>"
            ]
          },
          "metadata": {
            "needs_background": "light"
          },
          "output_type": "display_data"
        }
      ],
      "source": [
        "#cdf\n",
        "plt.step(np.arange(-2,20),dist.cdf(np.arange(-2,20)),'-', where='pre')\n",
        "plt.title('Cumulative distribution function, ~NBinom(n=10,p=0.8)')\n",
        "plt.savefig('./poiscdf.png',dpi=1200)\n"
      ]
    },
    {
      "cell_type": "markdown",
      "metadata": {
        "id": "mvySB0v-2uG3"
      },
      "source": [
        "# ZTPoisson"
      ]
    },
    {
      "cell_type": "code",
      "execution_count": null,
      "metadata": {
        "colab": {
          "base_uri": "https://localhost:8080/"
        },
        "id": "_me_suRM2v_3",
        "outputId": "beeacc33-ae26-4321-970f-9c73035d1bbc"
      },
      "outputs": [
        {
          "name": "stdout",
          "output_type": "stream",
          "text": [
            "Mean 2.313035285499331\n",
            "Variance 1.5889736245330208\n",
            "Simulated mean 2.31518\n",
            "Simulated variance 1.5865415675999999\n"
          ]
        }
      ],
      "source": [
        "from gemact import distributions\n",
        "import numpy as np\n",
        "\n",
        "mu=2\n",
        "dist=distributions.ZTPoisson(mu=mu)\n",
        "seq=np.arange(0,30,.001)\n",
        "nsim=int(1e+05)\n",
        "\n",
        "# Compute the mean via pmf\n",
        "mean=np.sum(dist.pmf(seq)*seq)\n",
        "variance=np.sum(dist.pmf(seq)*(seq-mean)**2)\n",
        "\n",
        "print('Mean',mean)\n",
        "print('Variance',variance)\n",
        "#compare with simulations\n",
        "print('Simulated mean',np.mean(dist.rvs(nsim)))\n",
        "print('Simulated variance',np.var(dist.rvs(nsim)))"
      ]
    },
    {
      "cell_type": "code",
      "execution_count": null,
      "metadata": {
        "colab": {
          "base_uri": "https://localhost:8080/",
          "height": 299
        },
        "id": "ZEACP87O3Bsn",
        "outputId": "3f19b1c7-1183-4d6f-a3e4-daa9c3cd5e55"
      },
      "outputs": [
        {
          "data": {
            "text/plain": [
              "Text(0.5, 1.0, 'Probability mass function, ~ZTPois(mu=2)')"
            ]
          },
          "execution_count": 25,
          "metadata": {},
          "output_type": "execute_result"
        },
        {
          "data": {
            "image/png": "[encoded data removed]",
            "text/plain": [
              "<Figure size 432x288 with 1 Axes>"
            ]
          },
          "metadata": {
            "needs_background": "light"
          },
          "output_type": "display_data"
        }
      ],
      "source": [
        "import matplotlib.pyplot as plt\n",
        "\n",
        "#pmf\n",
        "plt.vlines(x=seq, ymin=0, ymax=dist.pmf(seq))\n",
        "plt.title('Probability mass function, ~ZTPois(mu=2)')\n"
      ]
    },
    {
      "cell_type": "code",
      "execution_count": null,
      "metadata": {
        "colab": {
          "base_uri": "https://localhost:8080/",
          "height": 299
        },
        "id": "5SoEb1qo3FC7",
        "outputId": "a52edab2-7105-4140-b1d1-06f82e26bf47"
      },
      "outputs": [
        {
          "data": {
            "text/plain": [
              "Text(0.5, 1.0, 'Cumulative distribution function,  ~ZTPois(mu=2)')"
            ]
          },
          "execution_count": 26,
          "metadata": {},
          "output_type": "execute_result"
        },
        {
          "data": {
            "image/png": "[encoded data removed]",
            "text/plain": [
              "<Figure size 432x288 with 1 Axes>"
            ]
          },
          "metadata": {
            "needs_background": "light"
          },
          "output_type": "display_data"
        }
      ],
      "source": [
        "#cdf\n",
        "plt.step(np.arange(0,20),dist.cdf(np.arange(0,20)),'-', where='pre')\n",
        "plt.title('Cumulative distribution function,  ~ZTPois(mu=2)')"
      ]
    },
    {
      "cell_type": "markdown",
      "metadata": {
        "id": "Zu3cZhBb5HfF"
      },
      "source": [
        "#ZMPoisson"
      ]
    },
    {
      "cell_type": "code",
      "execution_count": null,
      "metadata": {
        "colab": {
          "base_uri": "https://localhost:8080/"
        },
        "id": "89INjNGa5HJy",
        "outputId": "449e38ec-56a0-4376-851c-b6b0c5077533"
      },
      "outputs": [
        {
          "name": "stdout",
          "output_type": "stream",
          "text": [
            "Mean 2.0817317569493983\n",
            "Variance 1.9115881629565665\n"
          ]
        }
      ],
      "source": [
        "from gemact import distributions\n",
        "import numpy as np\n",
        "\n",
        "mu=2\n",
        "p0M=0.1\n",
        "dist=distributions.ZMPoisson(mu=mu,p0m=p0M)\n",
        "seq=np.arange(0,30,.001)\n",
        "nsim=int(1e+05)\n",
        "\n",
        "# Compute the mean via pmf\n",
        "mean=np.sum(dist.pmf(seq)*seq)\n",
        "variance=np.sum(dist.pmf(seq)*(seq-mean)**2)\n",
        "\n",
        "print('Mean',mean)\n",
        "print('Variance',variance)\n",
        "#compare with simulations\n",
        "print('Simulated mean',np.mean(dist.rvs(nsim)))\n",
        "print('Simulated variance',np.var(dist.rvs(nsim)))"
      ]
    },
    {
      "cell_type": "code",
      "execution_count": null,
      "metadata": {
        "id": "Nf3q1-nZ5e1i"
      },
      "outputs": [],
      "source": [
        "import matplotlib.pyplot as plt\n",
        "\n",
        "#pmf\n",
        "plt.vlines(x=seq, ymin=0, ymax=dist.pmf(seq))\n",
        "plt.title('Probability mass function, ~ZMPois(mu=2,p0M=.1)')\n"
      ]
    },
    {
      "cell_type": "code",
      "execution_count": null,
      "metadata": {
        "id": "9OdU3-nO5gSZ"
      },
      "outputs": [],
      "source": [
        "#cdf\n",
        "plt.step(np.arange(0,20),dist.cdf(np.arange(0,20)),'-', where='pre')\n",
        "plt.title('Cumulative distribution function,  ~ZMPois(mu=2,p0M=.1)')"
      ]
    },
    {
      "cell_type": "markdown",
      "metadata": {
        "id": "YZRARLl16HIg"
      },
      "source": [
        "#ZTBinom"
      ]
    },
    {
      "cell_type": "code",
      "execution_count": null,
      "metadata": {
        "id": "mbxRdOkl6JfD"
      },
      "outputs": [],
      "source": [
        "from gemact import distributions\n",
        "import numpy as np\n",
        "\n",
        "n=10\n",
        "p=.2\n",
        "dist=distributions.ZTBinom(n=n,\n",
        "                           p=p)\n",
        "seq=np.arange(0,30,.001)\n",
        "nsim=int(1e+05)\n",
        "\n",
        "# Compute the mean via pmf\n",
        "mean=np.sum(dist.pmf(seq)*seq)\n",
        "variance=np.sum(dist.pmf(seq)*(seq-mean)**2)\n",
        "\n",
        "print('Mean',mean)\n",
        "print('Variance',variance)\n",
        "#compare with simulations\n",
        "print('Simulated mean',np.mean(dist.rvs(nsim)))\n",
        "print('Simulated variance',np.var(dist.rvs(nsim)))"
      ]
    },
    {
      "cell_type": "code",
      "execution_count": null,
      "metadata": {
        "id": "t2rbEyGS6gRn"
      },
      "outputs": [],
      "source": [
        "import matplotlib.pyplot as plt\n",
        "\n",
        "#pmf\n",
        "plt.vlines(x=seq, ymin=0, ymax=dist.pmf(seq))\n",
        "plt.title('Probability mass function, ~ZTBinom(n=10 p=.2)')\n"
      ]
    },
    {
      "cell_type": "code",
      "execution_count": null,
      "metadata": {
        "id": "GzMPc5SU6jCq"
      },
      "outputs": [],
      "source": [
        "#cdf\n",
        "plt.step(np.arange(0,20),dist.cdf(np.arange(0,20)),'-', where='pre')\n",
        "plt.title('Cumulative distribution function,  ~ZTBinom(n=10 p=.2)')"
      ]
    },
    {
      "cell_type": "markdown",
      "metadata": {
        "id": "W4zzlXc-7qbz"
      },
      "source": [
        "#ZMBinom"
      ]
    },
    {
      "cell_type": "code",
      "execution_count": null,
      "metadata": {
        "id": "tg9ltgQ87rzw"
      },
      "outputs": [],
      "source": [
        "from gemact import distributions\n",
        "import numpy as np\n",
        "\n",
        "n=10\n",
        "p=.2\n",
        "p0M=.05\n",
        "dist=distributions.ZMBinom(n=n,p=p,p0m=p0M)\n",
        "seq=np.arange(0,100,.001)\n",
        "nsim=int(1e+05)\n",
        "\n",
        "# Compute the mean via pmf\n",
        "mean=np.sum(dist.pmf(seq)*seq)\n",
        "variance=np.sum(dist.pmf(seq)*(seq-mean)**2)\n",
        "\n",
        "print('Mean',mean)\n",
        "print('Variance',variance)\n",
        "#compare with simulations\n",
        "print('Simulated mean',np.mean(dist.rvs(nsim)))\n",
        "print('Simulated variance',np.var(dist.rvs(nsim)))"
      ]
    },
    {
      "cell_type": "code",
      "execution_count": null,
      "metadata": {
        "id": "jgZmTRXQ7_Nm"
      },
      "outputs": [],
      "source": [
        "import matplotlib.pyplot as plt\n",
        "\n",
        "#pmf\n",
        "plt.vlines(x=seq, ymin=0, ymax=dist.pmf(seq))\n",
        "plt.title('Probability mass function, ~ZMBinom(n=10,p=.5,p0M=.05)')\n"
      ]
    },
    {
      "cell_type": "code",
      "execution_count": null,
      "metadata": {
        "id": "HmtmOqKK8HHw"
      },
      "outputs": [],
      "source": [
        "#cdf\n",
        "plt.step(np.arange(0,20),dist.cdf(np.arange(0,20)),'-', where='pre')\n",
        "plt.title('Cumulative distribution function,  ~ZMBinom(n=10,p=.5,p0M=.05)')"
      ]
    },
    {
      "cell_type": "markdown",
      "metadata": {
        "id": "FRM6Tzsj_00t"
      },
      "source": [
        "#ZTGeom"
      ]
    },
    {
      "cell_type": "code",
      "execution_count": null,
      "metadata": {
        "id": "e3F8XsNB_2WG"
      },
      "outputs": [],
      "source": [
        "from gemact import distributions\n",
        "import numpy as np\n",
        "\n",
        "p=.2\n",
        "dist=distributions.ZTGeom(p=p)\n",
        "seq=np.arange(0,100,.001)\n",
        "nsim=int(1e+05)\n",
        "\n",
        "# Compute the mean via pmf\n",
        "mean=np.sum(dist.pmf(seq)*seq)\n",
        "variance=np.sum(dist.pmf(seq)*(seq-mean)**2)\n",
        "\n",
        "print('Mean',mean)\n",
        "print('Variance',variance)\n",
        "#compare with simulations\n",
        "print('Simulated mean',np.mean(dist.rvs(nsim)))\n",
        "print('Simulated variance',np.var(dist.rvs(nsim)))"
      ]
    },
    {
      "cell_type": "code",
      "execution_count": null,
      "metadata": {
        "id": "BHHU2Cj__73L"
      },
      "outputs": [],
      "source": [
        "import matplotlib.pyplot as plt\n",
        "\n",
        "#pmf\n",
        "plt.vlines(x=seq, ymin=0, ymax=dist.pmf(seq))\n",
        "plt.title('Probability mass function, ~ZTGeom(p=.2)')\n"
      ]
    },
    {
      "cell_type": "code",
      "execution_count": null,
      "metadata": {
        "id": "njxFQaLBAFhb"
      },
      "outputs": [],
      "source": [
        "#cdf\n",
        "plt.step(np.arange(0,20),dist.cdf(np.arange(0,20)),'-', where='pre')\n",
        "plt.title('Cumulative distribution function,  ~ZTGeom(p=.2)')"
      ]
    },
    {
      "cell_type": "markdown",
      "metadata": {
        "id": "8JiYXTW2AlhH"
      },
      "source": [
        "#ZMGeom"
      ]
    },
    {
      "cell_type": "code",
      "execution_count": null,
      "metadata": {
        "id": "sQkjYiiZAoAx"
      },
      "outputs": [],
      "source": [
        "from gemact import distributions\n",
        "import numpy as np\n",
        "\n",
        "p=.2\n",
        "p0M=.01\n",
        "dist=distributions.ZMGeom(p=p,p0m=p0M)\n",
        "seq=np.arange(0,100,.001)\n",
        "nsim=int(1e+05)\n",
        "\n",
        "# Compute the mean via pmf\n",
        "mean=np.sum(dist.pmf(seq)*seq)\n",
        "variance=np.sum(dist.pmf(seq)*(seq-mean)**2)\n",
        "\n",
        "print('Mean',mean)\n",
        "print('Variance',variance)\n",
        "#compare with simulations\n",
        "print('Simulated mean',np.mean(dist.rvs(nsim)))\n",
        "print('Simulated variance',np.var(dist.rvs(nsim)))"
      ]
    },
    {
      "cell_type": "code",
      "execution_count": null,
      "metadata": {
        "id": "Vakxym1YAx4k"
      },
      "outputs": [],
      "source": [
        "import matplotlib.pyplot as plt\n",
        "\n",
        "#pmf\n",
        "plt.vlines(x=seq, ymin=0, ymax=dist.pmf(seq))\n",
        "plt.title('Probability mass function, ~ZMGeom(p=.2,p0M=.01)')\n"
      ]
    },
    {
      "cell_type": "code",
      "execution_count": null,
      "metadata": {
        "id": "pseCCLToA5Bx"
      },
      "outputs": [],
      "source": [
        "#cdf\n",
        "plt.step(np.arange(0,20),dist.cdf(np.arange(0,20)),'-', where='pre')\n",
        "plt.title('Cumulative distribution function,  ~ZMGeom(p=.2,p0M=.01)')"
      ]
    },
    {
      "cell_type": "markdown",
      "metadata": {
        "id": "zbrqMHpdBXgN"
      },
      "source": [
        "#ZTNegBinom"
      ]
    },
    {
      "cell_type": "code",
      "execution_count": null,
      "metadata": {
        "id": "o4TVB4bIBY7D"
      },
      "outputs": [],
      "source": [
        "from gemact import distributions\n",
        "import numpy as np\n",
        "\n",
        "p=.2\n",
        "n=10\n",
        "dist=distributions.ZTNegBinom(p=p,n=n)\n",
        "seq=np.arange(0,100,.001)\n",
        "nsim=int(1e+05)\n",
        "\n",
        "# Compute the mean via pmf\n",
        "mean=np.sum(dist.pmf(seq)*seq)\n",
        "variance=np.sum(dist.pmf(seq)*(seq-mean)**2)\n",
        "\n",
        "print('Mean',mean)\n",
        "print('Variance',variance)\n",
        "#compare with simulations\n",
        "print('Simulated mean',np.mean(dist.rvs(nsim)))\n",
        "print('Simulated variance',np.var(dist.rvs(nsim)))"
      ]
    },
    {
      "cell_type": "code",
      "execution_count": null,
      "metadata": {
        "id": "1Hd-1iltBiwe"
      },
      "outputs": [],
      "source": [
        "import matplotlib.pyplot as plt\n",
        "\n",
        "#pmf\n",
        "plt.vlines(x=seq, ymin=0, ymax=dist.pmf(seq))\n",
        "plt.title('Probability mass function, ~ZTNbinom(p=.2,n=10)')\n"
      ]
    },
    {
      "cell_type": "code",
      "execution_count": null,
      "metadata": {
        "id": "fMXAeEtlBmce"
      },
      "outputs": [],
      "source": [
        "#cdf\n",
        "plt.step(np.arange(0,100),dist.cdf(np.arange(0,100)),'-', where='pre')\n",
        "plt.title('Cumulative distribution function,  ~ZTNbinom(p=.2,n=10)')"
      ]
    },
    {
      "cell_type": "markdown",
      "metadata": {
        "id": "edQrq2_1CVYm"
      },
      "source": [
        "#ZMNegBinom"
      ]
    },
    {
      "cell_type": "code",
      "execution_count": null,
      "metadata": {
        "id": "1TThOR0YCX0w"
      },
      "outputs": [],
      "source": [
        "from gemact import distributions\n",
        "import numpy as np\n",
        "\n",
        "p=.2\n",
        "n=100\n",
        "p0M=.2\n",
        "dist=distributions.ZMNegBinom(n=50,\n",
        "                            p=.8,\n",
        "                            p0m=.01)\n",
        "seq=np.arange(0,100,.001)\n",
        "nsim=int(1e+05)\n",
        "\n",
        "# Compute the mean via pmf\n",
        "mean=np.sum(dist.pmf(seq)*seq)\n",
        "variance=np.sum(dist.pmf(seq)*(seq-mean)**2)\n",
        "\n",
        "print('Mean',mean)\n",
        "print('Variance',variance)\n",
        "#compare with simulations\n",
        "print('Simulated mean',np.mean(dist.rvs(nsim)))\n",
        "print('Simulated variance',np.var(dist.rvs(nsim)))"
      ]
    },
    {
      "cell_type": "markdown",
      "metadata": {
        "id": "uA--uPP1CU9n"
      },
      "source": [
        "#ZMLogser"
      ]
    },
    {
      "cell_type": "code",
      "execution_count": null,
      "metadata": {
        "id": "hhAci4KuDBQz"
      },
      "outputs": [],
      "source": [
        "from gemact import distributions\n",
        "import numpy as np\n",
        "\n",
        "p=.2\n",
        "p0M=.01\n",
        "dist=distributions.ZMLogser(p=p,p0m=p0M)\n",
        "seq=np.arange(0,100,.001)\n",
        "nsim=int(1e+05)\n",
        "\n",
        "# Compute the mean via pmf\n",
        "mean=np.sum(dist.pmf(seq)*seq)\n",
        "variance=np.sum(dist.pmf(seq)*(seq-mean)**2)\n",
        "\n",
        "print('Mean',mean)\n",
        "print('Variance',variance)\n",
        "#compare with simulations\n",
        "print('Simulated mean',np.mean(dist.rvs(nsim)))\n",
        "print('Simulated variance',np.var(dist.rvs(nsim)))"
      ]
    },
    {
      "cell_type": "code",
      "execution_count": null,
      "metadata": {
        "id": "IP3nFx1CDv2E"
      },
      "outputs": [],
      "source": [
        "import matplotlib.pyplot as plt\n",
        "\n",
        "#pmf\n",
        "plt.vlines(x=seq, ymin=0, ymax=dist.pmf(seq))\n",
        "plt.title('Probability mass function, ~ZMlogser(p=.2, p0M=.01)')\n"
      ]
    },
    {
      "cell_type": "code",
      "execution_count": null,
      "metadata": {
        "id": "rXZxM4MRDyot"
      },
      "outputs": [],
      "source": [
        "#cdf\n",
        "plt.step(np.arange(0,10),dist.cdf(np.arange(0,10)),'-', where='pre')\n",
        "plt.title('Cumulative distribution function,  ~ZMlogser(p=.2, p0M=.01)')"
      ]
    },
    {
      "cell_type": "markdown",
      "metadata": {
        "id": "VBWJgM3QJHta"
      },
      "source": [
        "#Exponential"
      ]
    },
    {
      "cell_type": "code",
      "execution_count": null,
      "metadata": {
        "id": "UTvLvBBnJbzU"
      },
      "outputs": [],
      "source": [
        "from gemact import distributions\n",
        "import numpy as np\n",
        "\n",
        "theta=.1\n",
        "dist=distributions.Exponential(theta=theta)\n",
        "seq=np.arange(0,200,.1)\n",
        "nsim=int(1e+05)\n",
        "\n",
        "print('Theorical mean',dist.mean())\n",
        "print('Theorical variance',dist.var())\n",
        "#compare with simulations\n",
        "print('Simulated mean',np.mean(dist.rvs(nsim)))\n",
        "print('Simulated variance',np.var(dist.rvs(nsim)))"
      ]
    },
    {
      "cell_type": "code",
      "execution_count": null,
      "metadata": {
        "id": "yv7DqRc4PYZ2"
      },
      "outputs": [],
      "source": [
        "import matplotlib.pyplot as plt\n",
        "\n",
        "#pmf\n",
        "plt.hist(dist.rvs(nsim),\n",
        "         bins=100,\n",
        "         density=True)\n",
        "plt.title('Probability density function, ~Exponential(theta=.5)')\n"
      ]
    },
    {
      "cell_type": "code",
      "execution_count": null,
      "metadata": {
        "id": "1X6yLKrdPY8d"
      },
      "outputs": [],
      "source": [
        "#cdf\n",
        "plt.plot(seq,dist.cdf(seq))\n",
        "plt.title('Cumulative distribution function,  ~Exponential(theta=.5)')"
      ]
    },
    {
      "cell_type": "markdown",
      "metadata": {
        "id": "dZPrn4FQK1ec"
      },
      "source": [
        "# Gamma"
      ]
    },
    {
      "cell_type": "code",
      "execution_count": null,
      "metadata": {
        "id": "SHbTVUS2Jmbk"
      },
      "outputs": [],
      "source": [
        "from gemact import distributions\n",
        "import numpy as np\n",
        "\n",
        "a=2\n",
        "b=5\n",
        "dist=distributions.Gamma(a=a,\n",
        "                         beta=b)\n",
        "seq=np.arange(0,100,.1)\n",
        "nsim=int(1e+05)\n",
        "\n",
        "print('Theorical mean',dist.mean())\n",
        "print('Theorical variance',dist.var())\n",
        "#compare with simulations\n",
        "print('Simulated mean',np.mean(dist.rvs(nsim)))\n",
        "print('Simulated variance',np.var(dist.rvs(nsim)))"
      ]
    },
    {
      "cell_type": "code",
      "execution_count": null,
      "metadata": {
        "id": "oAsRwQ4MLNgz"
      },
      "outputs": [],
      "source": [
        "import matplotlib.pyplot as plt\n",
        "\n",
        "#pmf\n",
        "plt.hist(dist.rvs(nsim),\n",
        "         bins=100,\n",
        "         density=True)\n",
        "plt.title('Probability density function, ~Gamma(a=2, beta=5)')\n"
      ]
    },
    {
      "cell_type": "code",
      "execution_count": null,
      "metadata": {
        "id": "JHBmH_LbOjVx"
      },
      "outputs": [],
      "source": [
        "#cdf\n",
        "plt.plot(seq,dist.cdf(seq))\n",
        "plt.title('Cumulative distribution function,  ~Gamma(a=2, beta=5)')"
      ]
    },
    {
      "cell_type": "markdown",
      "metadata": {
        "id": "HPbdGpUiPsC4"
      },
      "source": [
        "# GenPareto"
      ]
    },
    {
      "cell_type": "code",
      "execution_count": null,
      "metadata": {
        "id": "DgUnKyP7Pwd8"
      },
      "outputs": [],
      "source": [
        "from gemact import distributions\n",
        "import numpy as np\n",
        "\n",
        "c=.4\n",
        "loc=0\n",
        "scale=0.25\n",
        "\n",
        "dist=distributions.Genpareto(c=c,\n",
        "                            loc=loc,\n",
        "                            scale=scale)\n",
        "\n",
        "seq=np.arange(0,100,.1)\n",
        "nsim=int(1e+05)\n",
        "\n",
        "print('Theorical mean',dist.mean())\n",
        "print('Theorical variance',dist.var())\n",
        "#compare with simulations\n",
        "print('Simulated mean',np.mean(dist.rvs(nsim)))\n",
        "print('Simulated variance',np.var(dist.rvs(nsim)))"
      ]
    },
    {
      "cell_type": "code",
      "execution_count": null,
      "metadata": {
        "id": "vFgJXloGRk-A"
      },
      "outputs": [],
      "source": [
        "import matplotlib.pyplot as plt\n",
        "\n",
        "#pmf\n",
        "plt.hist(dist.rvs(nsim),\n",
        "         bins=50,\n",
        "         density=True)\n",
        "plt.title('Probability density function, ~GenPareto(a=2, beta=5)')\n"
      ]
    },
    {
      "cell_type": "code",
      "execution_count": null,
      "metadata": {
        "id": "4rmOqEYFRm9X"
      },
      "outputs": [],
      "source": [
        "#cdf\n",
        "plt.plot(seq,dist.cdf(seq))\n",
        "plt.title('Cumulative distribution function,  ~GenPareto(a=2, beta=5)')"
      ]
    },
    {
      "cell_type": "markdown",
      "metadata": {
        "id": "4dkgiZjbTxKD"
      },
      "source": [
        "#LogNorm"
      ]
    },
    {
      "cell_type": "code",
      "execution_count": null,
      "metadata": {
        "id": "NvP4XI-vTydT"
      },
      "outputs": [],
      "source": [
        "from gemact import distributions\n",
        "import numpy as np\n",
        "\n",
        "s=2\n",
        "dist=distributions.Lognorm(s=s)\n",
        "\n",
        "seq=np.arange(0,100,.1)\n",
        "nsim=int(1e+08)\n",
        "\n",
        "print('Theorical mean',dist.mean())\n",
        "print('Theorical variance',dist.var())\n",
        "#compare with simulations\n",
        "print('Simulated mean',np.mean(dist.rvs(nsim)))\n",
        "print('Simulated variance',np.var(dist.rvs(nsim)))"
      ]
    },
    {
      "cell_type": "code",
      "execution_count": null,
      "metadata": {
        "id": "0v8Q50MVgnRe"
      },
      "outputs": [],
      "source": [
        "import matplotlib.pyplot as plt\n",
        "\n",
        "#pmf\n",
        "plt.hist(dist.rvs(nsim),\n",
        "         bins=20,\n",
        "         density=True)\n",
        "plt.title('Probability density function, ~LogNormal(s=2)')\n"
      ]
    },
    {
      "cell_type": "code",
      "execution_count": null,
      "metadata": {
        "id": "GckiD9RlgrPc"
      },
      "outputs": [],
      "source": [
        "#cdf\n",
        "plt.plot(seq,dist.cdf(seq))\n",
        "plt.title('Cumulative distribution function, ~LogNormal(s=2)')"
      ]
    },
    {
      "cell_type": "markdown",
      "metadata": {
        "id": "rDDnOjk5h2M6"
      },
      "source": [
        "#GenBeta (to be completed with the new code)"
      ]
    },
    {
      "cell_type": "code",
      "execution_count": null,
      "metadata": {
        "id": "wbRhVFAChtrc"
      },
      "outputs": [],
      "source": [
        "# from gemact import distributions\n",
        "# import numpy as np\n",
        "\n",
        "# shape1=.3\n",
        "# shape2=.8\n",
        "# shape3=.4\n",
        "# dist=distributions.Beta(shape1=shape1,\n",
        "#                         shape2=shape2,\n",
        "#                         shape3=shape3)\n",
        "\n",
        "# seq=np.arange(0,100,.1)\n",
        "# nsim=int(1e+08)\n",
        "\n",
        "# print('Theorical mean',dist.mean())\n",
        "# print('Theorical variance',dist.var())\n",
        "# #compare with simulations\n",
        "# print('Simulated mean',np.mean(dist.rvs(nsim)))\n",
        "# print('Simulated variance',np.var(dist.rvs(nsim)))"
      ]
    },
    {
      "cell_type": "code",
      "execution_count": null,
      "metadata": {
        "id": "1pvZ3FvdlIh3"
      },
      "outputs": [],
      "source": []
    },
    {
      "cell_type": "markdown",
      "metadata": {
        "id": "cBbC-nN0lJB6"
      },
      "source": [
        "# Burr12"
      ]
    },
    {
      "cell_type": "code",
      "execution_count": null,
      "metadata": {
        "id": "8nOSMFi_lRWL"
      },
      "outputs": [],
      "source": [
        "from gemact import distributions\n",
        "import numpy as np\n",
        "\n",
        "c=2\n",
        "d=3\n",
        "dist=distributions.Burr12(c=c,\n",
        "                          d=d)\n",
        "\n",
        "seq=np.arange(0,100,.1)\n",
        "nsim=int(1e+05)\n",
        "\n",
        "print('Theorical mean',dist.mean())\n",
        "print('Theorical variance',dist.var())\n",
        "#compare with simulations\n",
        "print('Simulated mean',np.mean(dist.rvs(nsim)))\n",
        "print('Simulated variance',np.var(dist.rvs(nsim)))"
      ]
    },
    {
      "cell_type": "code",
      "execution_count": null,
      "metadata": {
        "id": "AsmXomEPliLd"
      },
      "outputs": [],
      "source": [
        "import matplotlib.pyplot as plt\n",
        "\n",
        "#pmf\n",
        "plt.hist(dist.rvs(nsim),\n",
        "         bins=100,\n",
        "         density=True)\n",
        "plt.title('Probability density function, ~Burr12(c=c,d=d)')\n"
      ]
    },
    {
      "cell_type": "code",
      "execution_count": null,
      "metadata": {
        "id": "SsGlggSLlwIS"
      },
      "outputs": [],
      "source": [
        "#cdf\n",
        "plt.plot(seq,dist.cdf(seq))\n",
        "plt.title('Cumulative distribution function,  ~Burr12(c=c,d=d)')"
      ]
    },
    {
      "cell_type": "markdown",
      "metadata": {
        "id": "MIuFv3h3mBbS"
      },
      "source": [
        "# InvGamma"
      ]
    },
    {
      "cell_type": "code",
      "execution_count": null,
      "metadata": {
        "id": "lSaqGZOEF9YM"
      },
      "outputs": [],
      "source": [
        "from gemact import distributions\n",
        "import numpy as np\n",
        "\n",
        "a=5\n",
        "dist=distributions.Invgamma(a=a)\n",
        "\n",
        "seq=np.arange(0,3,.001)\n",
        "nsim=int(1e+05)\n",
        "\n",
        "print('Theorical mean',dist.mean())\n",
        "print('Theorical variance',dist.var())\n",
        "#compare with simulations\n",
        "print('Simulated mean',np.mean(dist.rvs(nsim)))\n",
        "print('Simulated variance',np.var(dist.rvs(nsim)))"
      ]
    },
    {
      "cell_type": "code",
      "execution_count": null,
      "metadata": {
        "id": "yG8t74xuGddu"
      },
      "outputs": [],
      "source": [
        "import matplotlib.pyplot as plt\n",
        "\n",
        "#pmf\n",
        "plt.hist(dist.rvs(nsim),\n",
        "         bins=100,\n",
        "         density=True,\n",
        "         range=(0,3))\n",
        "plt.title('Probability density function, ~InvGamma(a=5)')\n"
      ]
    },
    {
      "cell_type": "code",
      "execution_count": null,
      "metadata": {
        "id": "fHyONak5GjWW"
      },
      "outputs": [],
      "source": [
        "#cdf\n",
        "plt.plot(seq,dist.cdf(seq))\n",
        "plt.title('Cumulative distribution function,   ~InvGamma(a=5')"
      ]
    },
    {
      "cell_type": "markdown",
      "metadata": {
        "id": "YB8SF4txHCs3"
      },
      "source": [
        "#Dagum"
      ]
    },
    {
      "cell_type": "code",
      "execution_count": null,
      "metadata": {
        "id": "0-Bov_wcHGDR"
      },
      "outputs": [],
      "source": [
        "from gemact import distributions\n",
        "import numpy as np\n",
        "\n",
        "d=2\n",
        "s=4.2\n",
        "dist=distributions.Dagum(d=d,\n",
        "                         s=s)\n",
        "\n",
        "seq=np.arange(0,3,.001)\n",
        "nsim=int(1e+05)\n",
        "\n",
        "print('Theorical mean',dist.mean())\n",
        "print('Theorical variance',dist.var())\n",
        "#compare with simulations\n",
        "print('Simulated mean',np.mean(dist.rvs(nsim)))\n",
        "print('Simulated variance',np.var(dist.rvs(nsim)))"
      ]
    },
    {
      "cell_type": "code",
      "execution_count": null,
      "metadata": {
        "id": "WNGPLqxuHTWT"
      },
      "outputs": [],
      "source": [
        "import matplotlib.pyplot as plt\n",
        "\n",
        "#pmf\n",
        "plt.hist(dist.rvs(nsim),\n",
        "         bins=100,\n",
        "         density=True)\n",
        "plt.title('Probability density function, ~Dagum(d=4,s=2)')\n"
      ]
    },
    {
      "cell_type": "code",
      "execution_count": null,
      "metadata": {
        "id": "NsmDYasyHUky"
      },
      "outputs": [],
      "source": [
        "#cdf\n",
        "plt.plot(seq,dist.cdf(seq))\n",
        "plt.title('Cumulative distribution function,  ~Dagum(d=c,s=4.2)')"
      ]
    },
    {
      "cell_type": "markdown",
      "metadata": {
        "id": "NYTdSZCcH1vW"
      },
      "source": [
        "# Weibull min"
      ]
    },
    {
      "cell_type": "code",
      "execution_count": null,
      "metadata": {
        "id": "BSJQ0B_jH3st"
      },
      "outputs": [],
      "source": [
        "from gemact import distributions\n",
        "import numpy as np\n",
        "\n",
        "c=2.2\n",
        "dist=distributions.Weibull_min(c=c)\n",
        "\n",
        "seq=np.arange(0,3,.001)\n",
        "nsim=int(1e+05)\n",
        "\n",
        "print('Theorical mean',dist.mean())\n",
        "print('Theorical variance',dist.var())\n",
        "#compare with simulations\n",
        "print('Simulated mean',np.mean(dist.rvs(nsim)))\n",
        "print('Simulated variance',np.var(dist.rvs(nsim)))"
      ]
    },
    {
      "cell_type": "code",
      "execution_count": null,
      "metadata": {
        "id": "MnHbE6VCH50k"
      },
      "outputs": [],
      "source": [
        "import matplotlib.pyplot as plt\n",
        "\n",
        "#pmf\n",
        "plt.hist(dist.rvs(nsim),\n",
        "         bins=100,\n",
        "         density=True)\n",
        "plt.title('Probability density function, ~Weibull_min(s=2.2)')\n"
      ]
    },
    {
      "cell_type": "code",
      "execution_count": null,
      "metadata": {
        "id": "Tc4jIWVxH7pZ"
      },
      "outputs": [],
      "source": [
        "#cdf\n",
        "plt.plot(seq,dist.cdf(seq))\n",
        "plt.title('Cumulative distribution function,  ~Weibull_min(s=2.2)')"
      ]
    },
    {
      "cell_type": "markdown",
      "metadata": {
        "id": "W1fJk3kgJtr0"
      },
      "source": [
        "# Invweibull"
      ]
    },
    {
      "cell_type": "code",
      "execution_count": null,
      "metadata": {
        "id": "qeqD9Mb1JtK3"
      },
      "outputs": [],
      "source": [
        "from gemact import distributions\n",
        "import numpy as np\n",
        "\n",
        "c=7.2\n",
        "dist=distributions.Invweibull(c=c)\n",
        "\n",
        "seq=np.arange(0,3,.001)\n",
        "nsim=int(1e+05)\n",
        "\n",
        "print('Theorical mean',dist.mean())\n",
        "print('Theorical variance',dist.var())\n",
        "#compare with simulations\n",
        "print('Simulated mean',np.mean(dist.rvs(nsim)))\n",
        "print('Simulated variance',np.var(dist.rvs(nsim)))"
      ]
    },
    {
      "cell_type": "code",
      "execution_count": null,
      "metadata": {
        "id": "apqfpKC7J_0M"
      },
      "outputs": [],
      "source": [
        "import matplotlib.pyplot as plt\n",
        "\n",
        "#pmf\n",
        "plt.hist(dist.rvs(nsim),\n",
        "         bins=100,\n",
        "         density=True)\n",
        "plt.title('Probability density function, ~Invweibull(c=7.2)')\n"
      ]
    },
    {
      "cell_type": "code",
      "execution_count": null,
      "metadata": {
        "id": "0F8Pvv4LKBNR"
      },
      "outputs": [],
      "source": [
        "#cdf\n",
        "plt.plot(seq,dist.cdf(seq))\n",
        "plt.title('Cumulative distribution function,  ~Invweibull(c=7.2)')"
      ]
    },
    {
      "cell_type": "markdown",
      "metadata": {
        "id": "2pUMu454KwfU"
      },
      "source": [
        "# Beta "
      ]
    },
    {
      "cell_type": "code",
      "execution_count": null,
      "metadata": {
        "id": "rQ-FyNSCK3ea"
      },
      "outputs": [],
      "source": [
        "from gemact import distributions\n",
        "import numpy as np\n",
        "\n",
        "a=2\n",
        "b=5\n",
        "dist=distributions.Beta(a=a,\n",
        "                        b=b)\n",
        "\n",
        "seq=np.arange(0,1,.001)\n",
        "nsim=int(1e+05)\n",
        "\n",
        "print('Theorical mean',dist.mean())\n",
        "print('Theorical variance',dist.var())\n",
        "#compare with simulations\n",
        "print('Simulated mean',np.mean(dist.rvs(nsim)))\n",
        "print('Simulated variance',np.var(dist.rvs(nsim)))"
      ]
    },
    {
      "cell_type": "code",
      "execution_count": null,
      "metadata": {
        "id": "ZFttkalWLM0C"
      },
      "outputs": [],
      "source": [
        "import matplotlib.pyplot as plt\n",
        "\n",
        "#pmf\n",
        "plt.hist(dist.rvs(nsim),\n",
        "         bins=100,\n",
        "         density=True)\n",
        "plt.title('Probability density function, ~Beta(a=2,b=5)')\n"
      ]
    },
    {
      "cell_type": "code",
      "execution_count": null,
      "metadata": {
        "id": "dzMffpH2LTft"
      },
      "outputs": [],
      "source": [
        "#cdf\n",
        "plt.plot(seq,dist.cdf(seq))\n",
        "plt.title('Cumulative distribution function,  ~Beta(a=2,b=5)')"
      ]
    },
    {
      "cell_type": "markdown",
      "metadata": {
        "id": "-fJS1u1EJyT9"
      },
      "source": [
        "# GenBeta"
      ]
    },
    {
      "cell_type": "code",
      "execution_count": null,
      "metadata": {
        "id": "aVjqCHTaJ1dI"
      },
      "outputs": [],
      "source": [
        "from gemact import distributions\n",
        "import numpy as np\n",
        "\n",
        "shape1=1\n",
        "shape2=2\n",
        "shape3=3\n",
        "scale=4\n",
        "\n",
        "dist=GenBeta(shape1=shape1,\n",
        "              shape2=shape2,\n",
        "              shape3=shape3,\n",
        "              scale=scale)\n",
        "\n",
        "seq=np.arange(0,1,.001)\n",
        "nsim=int(1e+05)\n",
        "\n",
        "print('Theorical mean',dist.mean())\n",
        "print('Theorical variance',dist.var())\n",
        "#compare with simulations\n",
        "print('Simulated mean',np.mean(dist.rvs(nsim)))\n",
        "print('Simulated variance',np.var(dist.rvs(nsim)))\n",
        "\n"
      ]
    },
    {
      "cell_type": "code",
      "execution_count": null,
      "metadata": {
        "id": "zu4vg7mas40r"
      },
      "outputs": [],
      "source": [
        "import matplotlib.pyplot as plt\n",
        "\n",
        "#pmf\n",
        "plt.hist(dist.rvs(nsim),\n",
        "          bins=100,\n",
        "          density=True)\n",
        "plt.title('Probability density function, ~GenBeta(shape1=1,shape2=2,shape3=3,scale=4)')\n"
      ]
    },
    {
      "cell_type": "code",
      "execution_count": null,
      "metadata": {
        "id": "75BdP-3Vs58n"
      },
      "outputs": [],
      "source": [
        "#cdf\n",
        "plt.plot(np.arange(-1,8,.001),dist.cdf(np.arange(-1,8,.001)))\n",
        "plt.title('Cumulative distribution function,  ~GenBeta(shape1=1,shape2=2,shape3=3,scale=4)')\n"
      ]
    }
  ],
  "metadata": {
    "colab": {
      "collapsed_sections": [],
      "name": "distributions.ipynb",
      "provenance": []
    },
    "kernelspec": {
      "display_name": "Python 3",
      "language": "python",
      "name": "python3"
    },
    "language_info": {
      "name": "python",
      "version": "3.7.8 (tags/v3.7.8:4b47a5b6ba, Jun 28 2020, 08:53:46) [MSC v.1916 64 bit (AMD64)]"
    },
    "vscode": {
      "interpreter": {
        "hash": "0a54084e6b208ee8d1ce3989ffc20924477a5f55f5a43e22e699a6741623861e"
      }
    }
  },
  "nbformat": 4,
  "nbformat_minor": 0
}
