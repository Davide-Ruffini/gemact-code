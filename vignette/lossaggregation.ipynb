{
  "nbformat": 4,
  "nbformat_minor": 0,
  "metadata": {
    "colab": {
      "name": "lossaggregation.ipynb",
      "provenance": []
    },
    "kernelspec": {
      "name": "python3",
      "display_name": "Python 3"
    },
    "language_info": {
      "name": "python"
    }
  },
  "cells": [
    {
      "cell_type": "code",
      "execution_count": 1,
      "metadata": {
        "colab": {
          "base_uri": "https://localhost:8080/",
          "height": 623
        },
        "id": "q1cSckV31-Cx",
        "outputId": "4b8620be-74f8-41d4-ff7b-57e78ec40ded"
      },
      "outputs": [
        {
          "output_type": "stream",
          "name": "stdout",
          "text": [
            "Looking in indexes: https://pypi.org/simple, https://us-python.pkg.dev/colab-wheels/public/simple/\n",
            "Collecting gemact\n",
            "  Downloading gemact-0.1.3-py3-none-any.whl (44 kB)\n",
            "\u001b[K     |████████████████████████████████| 44 kB 724 kB/s \n",
            "\u001b[?25hCollecting matplotlib>=3.5.0\n",
            "  Downloading matplotlib-3.5.3-cp37-cp37m-manylinux_2_5_x86_64.manylinux1_x86_64.whl (11.2 MB)\n",
            "\u001b[K     |████████████████████████████████| 11.2 MB 6.6 MB/s \n",
            "\u001b[?25hRequirement already satisfied: scipy>=1.7.2 in /usr/local/lib/python3.7/dist-packages (from gemact) (1.7.3)\n",
            "Collecting twiggy\n",
            "  Downloading Twiggy-0.5.1-py3-none-any.whl (25 kB)\n",
            "Requirement already satisfied: numpy>=1.21.4 in /usr/local/lib/python3.7/dist-packages (from gemact) (1.21.6)\n",
            "Requirement already satisfied: cycler>=0.10 in /usr/local/lib/python3.7/dist-packages (from matplotlib>=3.5.0->gemact) (0.11.0)\n",
            "Requirement already satisfied: pyparsing>=2.2.1 in /usr/local/lib/python3.7/dist-packages (from matplotlib>=3.5.0->gemact) (3.0.9)\n",
            "Requirement already satisfied: python-dateutil>=2.7 in /usr/local/lib/python3.7/dist-packages (from matplotlib>=3.5.0->gemact) (2.8.2)\n",
            "Collecting fonttools>=4.22.0\n",
            "  Downloading fonttools-4.34.4-py3-none-any.whl (944 kB)\n",
            "\u001b[K     |████████████████████████████████| 944 kB 44.1 MB/s \n",
            "\u001b[?25hRequirement already satisfied: packaging>=20.0 in /usr/local/lib/python3.7/dist-packages (from matplotlib>=3.5.0->gemact) (21.3)\n",
            "Requirement already satisfied: kiwisolver>=1.0.1 in /usr/local/lib/python3.7/dist-packages (from matplotlib>=3.5.0->gemact) (1.4.4)\n",
            "Requirement already satisfied: pillow>=6.2.0 in /usr/local/lib/python3.7/dist-packages (from matplotlib>=3.5.0->gemact) (7.1.2)\n",
            "Requirement already satisfied: typing-extensions in /usr/local/lib/python3.7/dist-packages (from kiwisolver>=1.0.1->matplotlib>=3.5.0->gemact) (4.1.1)\n",
            "Requirement already satisfied: six>=1.5 in /usr/local/lib/python3.7/dist-packages (from python-dateutil>=2.7->matplotlib>=3.5.0->gemact) (1.15.0)\n",
            "Installing collected packages: fonttools, twiggy, matplotlib, gemact\n",
            "  Attempting uninstall: matplotlib\n",
            "    Found existing installation: matplotlib 3.2.2\n",
            "    Uninstalling matplotlib-3.2.2:\n",
            "      Successfully uninstalled matplotlib-3.2.2\n",
            "Successfully installed fonttools-4.34.4 gemact-0.1.3 matplotlib-3.5.3 twiggy-0.5.1\n"
          ]
        },
        {
          "output_type": "display_data",
          "data": {
            "application/vnd.colab-display-data+json": {
              "pip_warning": {
                "packages": [
                  "matplotlib",
                  "mpl_toolkits"
                ]
              }
            }
          },
          "metadata": {}
        }
      ],
      "source": [
        "pip install gemact"
      ]
    },
    {
      "cell_type": "code",
      "source": [
        "import gemact"
      ],
      "metadata": {
        "id": "eDc6AFZv2ToE"
      },
      "execution_count": 1,
      "outputs": []
    },
    {
      "cell_type": "markdown",
      "source": [
        "# Risks aggregation\n",
        "\n",
        "\n",
        "$P\\left[ X_1 +\\ldots +X_d \\right] \\approx P_n(s)$\n",
        "\n",
        "The probability in the previous equation can be approximated iteratively via the AEP algorithm, which is implemented for the first time in the GEMAct package, under the following assumptions:\n",
        "\n",
        "Assuming:\n",
        "\n",
        "* $𝑋=(X_i, \\ldots, X_d)$ vector of strictly positive random components.\n",
        "\n",
        "* The joint c.d.f. $H(x_1,…,x_d )=P\\left[ X_1 +\\ldots +X_d \\right]$ is known or it can be computed numerically.\n",
        "\n",
        "Refer to [1] for an extensive explanation on the AEP algorithm."
      ],
      "metadata": {
        "id": "ImdE2LeGRMAn"
      }
    },
    {
      "cell_type": "code",
      "source": [
        "la=gemact.LossAggregation(\n",
        "                   margins=['genpareto',\n",
        "                            'genpareto'],\n",
        "                   margins_pars=[\n",
        "                       {'loc':0,\n",
        "                        'scale':1/.9,\n",
        "                        'c':1/.9},\n",
        "                        {'loc':0,\n",
        "                          'scale':1/1.8,\n",
        "                          'c':1/1.8}\n",
        "                          ],\n",
        "                   copula='clayton',\n",
        "                   copula_par={'par':1.2,\n",
        "                               'dim':2})"
      ],
      "metadata": {
        "id": "x1zPz3jw2WK5"
      },
      "execution_count": 29,
      "outputs": []
    },
    {
      "cell_type": "code",
      "source": [
        "print('cdf via AEP algorithm: \\n',la.cdf(k=1,\n",
        "                                         n_iter=7,\n",
        "                                         method='aep'))\n"
      ],
      "metadata": {
        "colab": {
          "base_uri": "https://localhost:8080/"
        },
        "id": "UZwJVrnNMnQN",
        "outputId": "ace51dab-cf5a-41f6-a934-40ddb7418c6d"
      },
      "execution_count": 30,
      "outputs": [
        {
          "output_type": "stream",
          "name": "stdout",
          "text": [
            "cdf via AEP algorithm: \n",
            " 0.31583504136297336\n"
          ]
        }
      ]
    },
    {
      "cell_type": "markdown",
      "source": [
        "# Bibliography \n",
        "\n",
        "1. Arbenz, Philipp, Paul Embrechts, and Giovanni Puccetti. \"The AEP algorithm for the fast computation of the distribution of the sum of dependent random variables.\" Bernoulli (2011): 562-591."
      ],
      "metadata": {
        "id": "Um2kBASpRayp"
      }
    }
  ]
}