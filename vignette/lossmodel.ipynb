{
  "cells": [
    {
      "cell_type": "code",
      "execution_count": 40,
      "metadata": {
        "colab": {
          "base_uri": "https://localhost:8080/",
          "height": 531
        },
        "id": "1Q8e_Vi5E_Q1",
        "outputId": "8443522e-49fa-4375-b8e2-e3f6ca67a5ea"
      },
      "outputs": [
        {
          "name": "stdout",
          "output_type": "stream",
          "text": [
            "Looking in indexes: https://pypi.org/simple, https://us-python.pkg.dev/colab-wheels/public/simple/\n",
            "Collecting gemact==0.1.4\n",
            "  Downloading gemact-0.1.4-py3-none-any.whl (45 kB)\n",
            "\u001b[K     |████████████████████████████████| 45 kB 2.1 MB/s \n",
            "\u001b[?25hRequirement already satisfied: numpy>=1.21.4 in /usr/local/lib/python3.7/dist-packages (from gemact==0.1.4) (1.21.6)\n",
            "Requirement already satisfied: twiggy in /usr/local/lib/python3.7/dist-packages (from gemact==0.1.4) (0.5.1)\n",
            "Requirement already satisfied: scipy>=1.7.2 in /usr/local/lib/python3.7/dist-packages (from gemact==0.1.4) (1.7.3)\n",
            "Requirement already satisfied: matplotlib>=3.5.0 in /usr/local/lib/python3.7/dist-packages (from gemact==0.1.4) (3.5.3)\n",
            "Requirement already satisfied: pillow>=6.2.0 in /usr/local/lib/python3.7/dist-packages (from matplotlib>=3.5.0->gemact==0.1.4) (7.1.2)\n",
            "Requirement already satisfied: packaging>=20.0 in /usr/local/lib/python3.7/dist-packages (from matplotlib>=3.5.0->gemact==0.1.4) (21.3)\n",
            "Requirement already satisfied: fonttools>=4.22.0 in /usr/local/lib/python3.7/dist-packages (from matplotlib>=3.5.0->gemact==0.1.4) (4.37.0)\n",
            "Requirement already satisfied: pyparsing>=2.2.1 in /usr/local/lib/python3.7/dist-packages (from matplotlib>=3.5.0->gemact==0.1.4) (3.0.9)\n",
            "Requirement already satisfied: kiwisolver>=1.0.1 in /usr/local/lib/python3.7/dist-packages (from matplotlib>=3.5.0->gemact==0.1.4) (1.4.4)\n",
            "Requirement already satisfied: python-dateutil>=2.7 in /usr/local/lib/python3.7/dist-packages (from matplotlib>=3.5.0->gemact==0.1.4) (2.8.2)\n",
            "Requirement already satisfied: cycler>=0.10 in /usr/local/lib/python3.7/dist-packages (from matplotlib>=3.5.0->gemact==0.1.4) (0.11.0)\n",
            "Requirement already satisfied: typing-extensions in /usr/local/lib/python3.7/dist-packages (from kiwisolver>=1.0.1->matplotlib>=3.5.0->gemact==0.1.4) (4.1.1)\n",
            "Requirement already satisfied: six>=1.5 in /usr/local/lib/python3.7/dist-packages (from python-dateutil>=2.7->matplotlib>=3.5.0->gemact==0.1.4) (1.15.0)\n",
            "Installing collected packages: gemact\n",
            "  Attempting uninstall: gemact\n",
            "    Found existing installation: gemact 0.1.3\n",
            "    Uninstalling gemact-0.1.3:\n",
            "      Successfully uninstalled gemact-0.1.3\n",
            "Successfully installed gemact-0.1.4\n"
          ]
        },
        {
          "data": {
            "application/vnd.colab-display-data+json": {
              "pip_warning": {
                "packages": [
                  "gemact"
                ]
              }
            }
          },
          "metadata": {},
          "output_type": "display_data"
        }
      ],
      "source": [
        "pip install gemact==0.1.4"
      ]
    },
    {
      "cell_type": "code",
      "execution_count": 1,
      "metadata": {
        "id": "p03LLqPnFIjS"
      },
      "outputs": [],
      "source": [
        "import gemact"
      ]
    },
    {
      "cell_type": "code",
      "execution_count": 2,
      "metadata": {
        "colab": {
          "base_uri": "https://localhost:8080/",
          "height": 36
        },
        "id": "rwtb3WOH36cQ",
        "outputId": "6ea1d99c-1353-43bd-bf4f-9197b3e2060c"
      },
      "outputs": [
        {
          "data": {
            "application/vnd.google.colaboratory.intrinsic+json": {
              "type": "string"
            },
            "text/plain": [
              "'0.1.4'"
            ]
          },
          "execution_count": 2,
          "metadata": {},
          "output_type": "execute_result"
        }
      ],
      "source": [
        "gemact.__version__"
      ]
    },
    {
      "cell_type": "markdown",
      "metadata": {
        "id": "N-nxEss0FXpn"
      },
      "source": [
        "# Different models to compute the aggregate cost\n",
        "\n",
        "$$ \\widetilde{S}=\\sum_{i=1}^{\\widetilde{N}} \\widetilde{{Y_i}} $$\n",
        "\n",
        "Under the following assumptions:\n",
        "\n",
        "1. $\\widetilde{S} \\sim g(S)$ and $\\widetilde{Y_i} \\sim f(Y)$\n",
        "\n",
        "2. Given $\\widetilde{N}=n$,  the severity $\\widetilde{Y_1},\\ldots,\\widetilde{Y_n}$ is i.i.d and does not depend on $n$.\n",
        "\n",
        "3. $\\widetilde{N}$ does not depend on $\\widetilde{Y_1},\\ldots,\\widetilde{Y_n}$ in any way.\n",
        "\n",
        "\\end{itemize}\n",
        "\n",
        "GEMAct requires distributive assumptions on frequency and severity. In the following tutorial we will assume:\n",
        "\n",
        "* $\\widetilde{N} \\sim Poisson(4)$\n",
        "* $\\widetilde{Y_i} \\sim Genpareto(shape=.2, scale=1, loc=0)$\n",
        "\n"
      ]
    },
    {
      "cell_type": "code",
      "execution_count": 3,
      "metadata": {
        "colab": {
          "base_uri": "https://localhost:8080/"
        },
        "id": "amIG25ysFNpo",
        "outputId": "d3075f4e-de35-45b5-be70-9b17fca33113"
      },
      "outputs": [
        {
          "name": "stderr",
          "output_type": "stream",
          "text": [
            "INFO:lossmodel|..Approximating aggregate loss distribution via Monte Carlo simulation..\n",
            "INFO:lossmodel|..Simulation completed..\n"
          ]
        }
      ],
      "source": [
        "#poisson -genpareto\n",
        "\n",
        "fq_dist='poisson' #str\n",
        "fq_par={'mu':4} #dict\n",
        "sev_dist='genpareto' #str \n",
        "sev_par = {'c': .2, 'scale': 1} #dict\n",
        "\n",
        "n_sim=int(1e+05) #int\n",
        "\n",
        "\n",
        "\n",
        "lm_mc=gemact.LossModel(aggr_loss_dist_method='mc',\n",
        "                 fq_par = fq_par,\n",
        "                 fq_dist = fq_dist,\n",
        "                 sev_par = sev_par,\n",
        "                 sev_dist = sev_dist,\n",
        "                 n_sim = n_sim,\n",
        "                 random_state = 1)\n"
      ]
    },
    {
      "cell_type": "code",
      "execution_count": 4,
      "metadata": {
        "colab": {
          "base_uri": "https://localhost:8080/"
        },
        "id": "v86w9RB53i4c",
        "outputId": "7ca4f888-cd04-48a6-a32d-22d0a107c858"
      },
      "outputs": [
        {
          "name": "stderr",
          "output_type": "stream",
          "text": [
            "INFO:lossmodel|..Approximating aggregate loss distribution via Panjer recursion..\n",
            "INFO:lossmodel|..Panjer recursion completed..\n"
          ]
        }
      ],
      "source": [
        "lm_rec=gemact.LossModel(aggr_loss_dist_method='recursion',\n",
        "                 fq_par = fq_par,\n",
        "                 fq_dist = fq_dist,\n",
        "                 sev_par = sev_par,\n",
        "                 sev_dist = sev_dist,\n",
        "                 n_sev_discr_nodes = int(1000),\n",
        "                 sev_discr_step = 1,\n",
        "                 n_aggr_dist_nodes = int(10000))"
      ]
    },
    {
      "cell_type": "code",
      "execution_count": 5,
      "metadata": {
        "colab": {
          "base_uri": "https://localhost:8080/"
        },
        "id": "ApAC7deA4OdT",
        "outputId": "abc8c57a-19b1-45a2-f8c8-957d66c27763"
      },
      "outputs": [
        {
          "name": "stderr",
          "output_type": "stream",
          "text": [
            "INFO:lossmodel|..Approximating aggregate loss distribution via FFT..\n",
            "INFO:lossmodel|..Distribution via FFT completed..\n"
          ]
        }
      ],
      "source": [
        "lm_fft=gemact.LossModel(aggr_loss_dist_method='fft',\n",
        "                 fq_par = fq_par,\n",
        "                 fq_dist = fq_dist,\n",
        "                 sev_par = sev_par,\n",
        "                 sev_dist = sev_dist,\n",
        "                 n_sev_discr_nodes = int(1000),\n",
        "                 sev_discr_step = 1,\n",
        "                 n_aggr_dist_nodes = int(10000))"
      ]
    },
    {
      "cell_type": "code",
      "execution_count": 6,
      "metadata": {
        "colab": {
          "base_uri": "https://localhost:8080/"
        },
        "id": "kx3M9-YLH8XS",
        "outputId": "ef8657e4-e56e-4ca4-b813-89278ba383a1"
      },
      "outputs": [
        {
          "name": "stdout",
          "output_type": "stream",
          "text": [
            "MC 4.986130567647585\n",
            "RECURSIVE 4.999999984652499\n",
            "FFT 4.9999999846531935\n"
          ]
        }
      ],
      "source": [
        "print('MC',lm_mc.aggr_loss_mean())\n",
        "print('RECURSIVE',lm_rec.aggr_loss_mean())\n",
        "print('FFT',lm_fft.aggr_loss_mean())"
      ]
    },
    {
      "cell_type": "markdown",
      "metadata": {
        "id": "bTFN64NG5fXe"
      },
      "source": [
        "# (Re)insurance contracts pricing\n",
        "\n",
        "Below we show the following pricing models:\n",
        "\n",
        "* Excess-of-loss (XL),\n",
        "* Pricing with reinstatements,\n",
        "* Stop-loss."
      ]
    },
    {
      "cell_type": "markdown",
      "metadata": {
        "id": "LdsJLxTZ0XyZ"
      },
      "source": [
        "# Excess-of-loss (XL) pricing"
      ]
    },
    {
      "cell_type": "code",
      "execution_count": 18,
      "metadata": {
        "colab": {
          "base_uri": "https://localhost:8080/"
        },
        "id": "a_NvZ4Dl0TiZ",
        "outputId": "e86d0f79-f610-4e2f-bfb5-8474adb0951a"
      },
      "outputs": [
        {
          "name": "stderr",
          "output_type": "stream",
          "text": [
            "INFO:lossmodel|Discretization step set to cover/n_sev_discr_nodes.\n",
            "INFO:lossmodel|..Approximating aggregate loss distribution via FFT..\n",
            "INFO:lossmodel|..Distribution via FFT completed..\n"
          ]
        }
      ],
      "source": [
        "lossXL=gemact.LossModel(aggr_loss_dist_method='fft',\n",
        "             fq_par={'mu':.5},\n",
        "             fq_dist= 'poisson',\n",
        "             sev_par= {'loc':0,\n",
        "                       'scale': 83.33333333333334, \n",
        "                       'c': 0.8333333333333334},\n",
        "             sev_dist='genpareto',\n",
        "             deductible=100,\n",
        "             cover=100,\n",
        "             sev_discr_method='massdispersal',\n",
        "             n_sev_discr_nodes = int(10000),\n",
        "             sev_discr_step = .01,\n",
        "             n_aggr_dist_nodes = int(100000))\n"
      ]
    },
    {
      "cell_type": "code",
      "execution_count": 19,
      "metadata": {
        "colab": {
          "base_uri": "https://localhost:8080/"
        },
        "id": "DL3mqEh30eoi",
        "outputId": "88050ef7-40e4-466b-9bdb-ddbe4ecdd39d"
      },
      "outputs": [
        {
          "name": "stdout",
          "output_type": "stream",
          "text": [
            "                     Contract specification            parameter                value\n",
            "                      ==================================================================\n",
            "                               Deductible                    d                100.0\n",
            "                                    Cover                u - d                100.0\n",
            "                           Upper priority                    u                200.0\n",
            "                     Aggregate deductible                    L                100.0\n",
            "                     Quota share ceded portion                alpha                    1\n",
            "                             Pure premium                    P   1.3354758296850144\n",
            "\n",
            " Reinstatement layer loading c:  []\n",
            "fft \t n_sev_discr_nodes m:  9999 \t n_aggr_dist_nodes n:  100000\n"
          ]
        }
      ],
      "source": [
        "lossXL.pricing()"
      ]
    },
    {
      "cell_type": "markdown",
      "metadata": {
        "id": "DGeviIsPzzme"
      },
      "source": [
        "# Pricing with reinstatements\n"
      ]
    },
    {
      "cell_type": "code",
      "execution_count": 9,
      "metadata": {
        "colab": {
          "base_uri": "https://localhost:8080/"
        },
        "id": "xsfbatAnz2FI",
        "outputId": "69bc3d3f-de66-4210-a7b7-4cd9bee9f754"
      },
      "outputs": [
        {
          "name": "stderr",
          "output_type": "stream",
          "text": [
            "INFO:lossmodel|Discretization step set to cover/n_sev_discr_nodes.\n",
            "INFO:lossmodel|..Approximating aggregate loss distribution via FFT..\n",
            "INFO:lossmodel|..Distribution via FFT completed..\n"
          ]
        }
      ],
      "source": [
        "lossm=gemact.LossModel(aggr_loss_dist_method='fft',\n",
        "             fq_par={'mu':.5},\n",
        "             fq_dist= 'poisson',\n",
        "             sev_par= {'loc':0,\n",
        "                       'scale': 83.33333333333334, \n",
        "                       'c': 0.8333333333333334},\n",
        "             sev_dist='genpareto',\n",
        "             sev_discr_method='massdispersal',\n",
        "             n_sev_discr_nodes = int(10000),\n",
        "             sev_discr_step = .01,\n",
        "             n_aggr_dist_nodes = int(100000),\n",
        "             cover=100,\n",
        "             aggr_n_deductible=0,\n",
        "             reinst_loading=1,\n",
        "             n_reinst=1)\n"
      ]
    },
    {
      "cell_type": "code",
      "execution_count": 10,
      "metadata": {
        "colab": {
          "base_uri": "https://localhost:8080/"
        },
        "id": "i4DBLkdY0KuI",
        "outputId": "35528887-257b-4ae9-c13e-392a8a8a747b"
      },
      "outputs": [
        {
          "name": "stdout",
          "output_type": "stream",
          "text": [
            "                     Contract specification            parameter                value\n",
            "                      ==================================================================\n",
            "                               Deductible                    d                  0.0\n",
            "                                    Cover                u - d                100.0\n",
            "                           Upper priority                    u                100.0\n",
            "                     Aggregate deductible                    L                  0.0\n",
            "                     Quota share ceded portion                alpha                    1\n",
            "                     Number of reinstatements                    K                    1\n",
            "                             Pure premium                    P    24.97739773475006\n",
            "\n",
            " Reinstatement layer loading c:  [1]\n",
            "fft \t n_sev_discr_nodes m:  9999 \t n_aggr_dist_nodes n:  100000\n"
          ]
        }
      ],
      "source": [
        "lossm.pricing()"
      ]
    },
    {
      "cell_type": "markdown",
      "metadata": {
        "id": "Zns_j-o804k0"
      },
      "source": [
        "# Stop Loss pricing"
      ]
    },
    {
      "cell_type": "code",
      "execution_count": 11,
      "metadata": {
        "colab": {
          "base_uri": "https://localhost:8080/"
        },
        "id": "1c_It1Eo08ug",
        "outputId": "ca96701c-a8dd-491a-b5d1-bb11168a5a5b"
      },
      "outputs": [
        {
          "name": "stderr",
          "output_type": "stream",
          "text": [
            "INFO:lossmodel|..Approximating aggregate loss distribution via FFT..\n",
            "INFO:lossmodel|..Distribution via FFT completed..\n"
          ]
        }
      ],
      "source": [
        "lossm=gemact.LossModel(aggr_loss_dist_method='fft',\n",
        "             fq_par={'mu':.5},\n",
        "             fq_dist= 'poisson',\n",
        "             sev_par={'loc':0,'scale': 83.33333333333334, 'c': 0.8333333333333334},\n",
        "             sev_dist='genpareto',\n",
        "             sev_discr_method='localmoments',\n",
        "             n_sev_discr_nodes=int(10000),\n",
        "             sev_discr_step=.01,\n",
        "             n_aggr_dist_nodes=int(100000),\n",
        "             K=5)"
      ]
    },
    {
      "cell_type": "code",
      "execution_count": 12,
      "metadata": {
        "colab": {
          "base_uri": "https://localhost:8080/"
        },
        "id": "AHhseSA01GUK",
        "outputId": "56fe3aaa-68f6-4159-c7e4-1ace0fc5fa43"
      },
      "outputs": [
        {
          "name": "stdout",
          "output_type": "stream",
          "text": [
            "                     Contract specification            parameter                value\n",
            "                      ==================================================================\n",
            "                               Deductible                    d                  0.0\n",
            "                                    Cover                u - d                  inf\n",
            "                           Upper priority                    u                  inf\n",
            "                     Aggregate deductible                    L                  0.0\n",
            "                     Quota share ceded portion                alpha                    1\n",
            "                             Pure premium                    P    8.525107865235272\n",
            "\n",
            " Reinstatement layer loading c:  []\n",
            "fft \t n_sev_discr_nodes m:  10000 \t n_aggr_dist_nodes n:  100000\n"
          ]
        }
      ],
      "source": [
        "lossm.pricing()"
      ]
    },
    {
      "cell_type": "markdown",
      "metadata": {
        "id": "NxUAx0OpDp_R"
      },
      "source": [
        "# Severity discretization\n",
        "\n",
        "In order to pass from a continuous distribution to an arithmetic distribution, it is important to preserve the distribution properties either locally or globally. Given a span $h$ and $M$ the last available point, in GEMAct there are two available solutions.\n",
        "\n",
        "**Method of mass dispersal**\n",
        "\n",
        "$$ f_{0}=\\operatorname{Pr}\\left(\\widetilde{Y}<\\frac{h}{2}\\right)=F_{\\widetilde{Y}}\\left(\\frac{h}{2}-0\\right)$$\n",
        "\n",
        "$$ f_{j}=F_{\\widetilde{Y}}\\left(j h+\\frac{h}{2}-0\\right)-F_{\\widetilde{Y}}\\left(j h-\\frac{h}{2}-0\\right), \\quad j=1,2, \\ldots, M-1$$\n",
        "\n",
        "\n",
        "$$f_{M}=1-F_{X}[(M-0.5) h-0]$$\n",
        "\n",
        "**Method of local moments matching**\n",
        "\n",
        "The following approach is applied to preserve the global mean of the distribution.\n",
        "\n",
        "$$f_0 = m^0_0$$\n",
        "\n",
        "$$f_j = m^{j}_0+ m^{j-1}_1 , \\quad j=0,1, \\ldots, M$$\n",
        "\n",
        "$$ \\sum_{j=0}^{1}\\left(x_{k}+j h\\right)^{r} m_{j}^{k}=\\int_{x_{k}-0}^{x_{k}+ h-0} x^{r} d F_{X}(x), \\quad r=0,1$$\n",
        "\n",
        "$$ m_{j}^{k}=\\int_{x_{k}-0}^{x_{k}+p h-0} \\prod_{i \\neq j} \\frac{x-x_{k}-i h}{(j-i) h} d F_{X}(x), \\quad j=0,1$$\n"
      ]
    },
    {
      "cell_type": "code",
      "execution_count": 13,
      "metadata": {
        "colab": {
          "base_uri": "https://localhost:8080/"
        },
        "id": "Sy9UrhgfDsC5",
        "outputId": "9cf177c2-9f25-4a24-f3d8-abc1fa14873e"
      },
      "outputs": [
        {
          "name": "stderr",
          "output_type": "stream",
          "text": [
            "INFO:lossmodel|Discretization step set to cover/n_sev_discr_nodes.\n",
            "INFO:lossmodel|..Approximating aggregate loss distribution via FFT..\n",
            "INFO:lossmodel|..Distribution via FFT completed..\n",
            "INFO:lossmodel|Discretization step set to cover/n_sev_discr_nodes.\n",
            "INFO:lossmodel|..Approximating aggregate loss distribution via FFT..\n",
            "INFO:lossmodel|..Distribution via FFT completed..\n"
          ]
        }
      ],
      "source": [
        "import numpy as np\n",
        "\n",
        "lossm_md=gemact.LossModel(aggr_loss_dist_method='fft',\n",
        "             fq_par={'mu':.5},\n",
        "             fq_dist= 'poisson',\n",
        "             sev_par={'loc':0,'scale': 83, 'c': 0.83},\n",
        "             sev_dist='genpareto',\n",
        "             cover=100,\n",
        "             sev_discr_method='massdispersal',\n",
        "             n_sev_discr_nodes = int(10000),\n",
        "             sev_discr_step = .01,\n",
        "             n_aggr_dist_nodes = int(100000))\n",
        "\n",
        "lossm_lm=gemact.LossModel(aggr_loss_dist_method='fft',\n",
        "             fq_par={'mu':.5},\n",
        "             fq_dist= 'poisson',\n",
        "             sev_par={'loc':0,'scale': 83, 'c': 0.83},\n",
        "             sev_dist='genpareto',\n",
        "             cover=100,\n",
        "             sev_discr_method='localmoments',\n",
        "             n_sev_discr_nodes = int(10000),\n",
        "             sev_discr_step = .01,\n",
        "             n_aggr_dist_nodes = int(100000))\n",
        "\n",
        "\n"
      ]
    },
    {
      "cell_type": "markdown",
      "metadata": {
        "id": "eTOmGrxE5HJe"
      },
      "source": [
        "Below we show the computations consistency by comparing the discrete mean via mass dispersal and the discrete mean via local moments discretization."
      ]
    },
    {
      "cell_type": "code",
      "execution_count": 14,
      "metadata": {
        "id": "pLId_vAYD9OL"
      },
      "outputs": [],
      "source": [
        "massD=lossm_md.severity_discretization()\n",
        "localM=lossm_lm.severity_discretization()\n",
        "\n",
        "meanMD = np.sum(massD['sev_nodes']*massD['fj'])\n",
        "meanLM = np.sum(localM['sev_nodes']*localM['fj'])"
      ]
    },
    {
      "cell_type": "code",
      "execution_count": 15,
      "metadata": {
        "colab": {
          "base_uri": "https://localhost:8080/"
        },
        "id": "HmTcVbk_Etju",
        "outputId": "ed285bda-3354-4405-bf14-dccf9c881689"
      },
      "outputs": [
        {
          "name": "stdout",
          "output_type": "stream",
          "text": [
            "Mean (mass dispersal):  64.61227417939517\n",
            "Mean (local moments):  64.61227421887484\n"
          ]
        }
      ],
      "source": [
        "print('Mean (mass dispersal): ',meanMD)\n",
        "print('Mean (local moments): ',meanLM)\n"
      ]
    }
  ],
  "metadata": {
    "colab": {
      "collapsed_sections": [],
      "name": "lossmodel.ipynb",
      "provenance": []
    },
    "kernelspec": {
      "display_name": "Python 3.8.3 ('base')",
      "language": "python",
      "name": "python3"
    },
    "language_info": {
      "name": "python",
      "version": "3.8.3"
    },
    "vscode": {
      "interpreter": {
        "hash": "2a30fbe1e7b635a088d04c84f03b2c213c97cf71734b849e854856f7b360ec03"
      }
    }
  },
  "nbformat": 4,
  "nbformat_minor": 0
}
